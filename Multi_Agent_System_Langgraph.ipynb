{
  "nbformat": 4,
  "nbformat_minor": 0,
  "metadata": {
    "colab": {
      "provenance": []
    },
    "kernelspec": {
      "name": "python3",
      "display_name": "Python 3"
    },
    "language_info": {
      "name": "python"
    }
  },
  "cells": [
    {
      "cell_type": "markdown",
      "source": [
        "# Building a collaborative Multi-Agent System in LangGraph\n",
        "\n",
        "#🧩 Project Objective / Problem Statement\n",
        "\n",
        "The objective of this project is to design and implement a collaborative Multi-Agent System using LangGraph that functions as an intelligent Data Analyst Assistant.\n",
        "\n",
        "Traditional single-agent systems are often limited in their ability to handle multiple tools or cross-domain tasks effectively — even when powered by advanced models like GPT-4o.\n",
        "To overcome this limitation, this project adopts a divide-and-conquer (multi-agent) strategy, where specialized agents are designed for different subtasks and coordinate through a central router.\n",
        "\n",
        "The system will consist of:\n",
        "\n",
        "🔹 Researcher Agent – Responsible for fetching and analyzing live information using web search and retrieval tools.\n",
        "\n",
        "🔹 Chart Generator Agent – Expert in visualizing data, generating insights through Python-based charts and graphs.\n",
        "\n",
        "🔹 Conditional Routing adges  – Directs user queries to the correct specialized agent based on context and intent.\n",
        "\n",
        "This approach aims to enhance task accuracy, scalability, and efficiency by allowing agents to collaborate intelligently — forming the foundation for next-generation Agentic AI Data Analysis systems."
      ],
      "metadata": {
        "id": "1LU4Jl9sLPY2"
      }
    },
    {
      "cell_type": "code",
      "execution_count": 1,
      "metadata": {
        "colab": {
          "base_uri": "https://localhost:8080/"
        },
        "id": "r1_gneVsJ6Vg",
        "outputId": "7ce6b210-24f1-4c28-df2f-86e01f3e83c0"
      },
      "outputs": [
        {
          "output_type": "stream",
          "name": "stdout",
          "text": [
            "Requirement already satisfied: langchain in /usr/local/lib/python3.12/dist-packages (0.3.27)\n",
            "Requirement already satisfied: langchain-core<1.0.0,>=0.3.72 in /usr/local/lib/python3.12/dist-packages (from langchain) (0.3.77)\n",
            "Requirement already satisfied: langchain-text-splitters<1.0.0,>=0.3.9 in /usr/local/lib/python3.12/dist-packages (from langchain) (0.3.11)\n",
            "Requirement already satisfied: langsmith>=0.1.17 in /usr/local/lib/python3.12/dist-packages (from langchain) (0.4.31)\n",
            "Requirement already satisfied: pydantic<3.0.0,>=2.7.4 in /usr/local/lib/python3.12/dist-packages (from langchain) (2.11.9)\n",
            "Requirement already satisfied: SQLAlchemy<3,>=1.4 in /usr/local/lib/python3.12/dist-packages (from langchain) (2.0.43)\n",
            "Requirement already satisfied: requests<3,>=2 in /usr/local/lib/python3.12/dist-packages (from langchain) (2.32.4)\n",
            "Requirement already satisfied: PyYAML>=5.3 in /usr/local/lib/python3.12/dist-packages (from langchain) (6.0.3)\n",
            "Requirement already satisfied: tenacity!=8.4.0,<10.0.0,>=8.1.0 in /usr/local/lib/python3.12/dist-packages (from langchain-core<1.0.0,>=0.3.72->langchain) (8.5.0)\n",
            "Requirement already satisfied: jsonpatch<2.0.0,>=1.33.0 in /usr/local/lib/python3.12/dist-packages (from langchain-core<1.0.0,>=0.3.72->langchain) (1.33)\n",
            "Requirement already satisfied: typing-extensions<5.0.0,>=4.7.0 in /usr/local/lib/python3.12/dist-packages (from langchain-core<1.0.0,>=0.3.72->langchain) (4.15.0)\n",
            "Requirement already satisfied: packaging<26.0.0,>=23.2.0 in /usr/local/lib/python3.12/dist-packages (from langchain-core<1.0.0,>=0.3.72->langchain) (25.0)\n",
            "Requirement already satisfied: httpx<1,>=0.23.0 in /usr/local/lib/python3.12/dist-packages (from langsmith>=0.1.17->langchain) (0.28.1)\n",
            "Requirement already satisfied: orjson>=3.9.14 in /usr/local/lib/python3.12/dist-packages (from langsmith>=0.1.17->langchain) (3.11.3)\n",
            "Requirement already satisfied: requests-toolbelt>=1.0.0 in /usr/local/lib/python3.12/dist-packages (from langsmith>=0.1.17->langchain) (1.0.0)\n",
            "Requirement already satisfied: zstandard>=0.23.0 in /usr/local/lib/python3.12/dist-packages (from langsmith>=0.1.17->langchain) (0.25.0)\n",
            "Requirement already satisfied: annotated-types>=0.6.0 in /usr/local/lib/python3.12/dist-packages (from pydantic<3.0.0,>=2.7.4->langchain) (0.7.0)\n",
            "Requirement already satisfied: pydantic-core==2.33.2 in /usr/local/lib/python3.12/dist-packages (from pydantic<3.0.0,>=2.7.4->langchain) (2.33.2)\n",
            "Requirement already satisfied: typing-inspection>=0.4.0 in /usr/local/lib/python3.12/dist-packages (from pydantic<3.0.0,>=2.7.4->langchain) (0.4.2)\n",
            "Requirement already satisfied: charset_normalizer<4,>=2 in /usr/local/lib/python3.12/dist-packages (from requests<3,>=2->langchain) (3.4.3)\n",
            "Requirement already satisfied: idna<4,>=2.5 in /usr/local/lib/python3.12/dist-packages (from requests<3,>=2->langchain) (3.10)\n",
            "Requirement already satisfied: urllib3<3,>=1.21.1 in /usr/local/lib/python3.12/dist-packages (from requests<3,>=2->langchain) (2.5.0)\n",
            "Requirement already satisfied: certifi>=2017.4.17 in /usr/local/lib/python3.12/dist-packages (from requests<3,>=2->langchain) (2025.8.3)\n",
            "Requirement already satisfied: greenlet>=1 in /usr/local/lib/python3.12/dist-packages (from SQLAlchemy<3,>=1.4->langchain) (3.2.4)\n",
            "Requirement already satisfied: anyio in /usr/local/lib/python3.12/dist-packages (from httpx<1,>=0.23.0->langsmith>=0.1.17->langchain) (4.11.0)\n",
            "Requirement already satisfied: httpcore==1.* in /usr/local/lib/python3.12/dist-packages (from httpx<1,>=0.23.0->langsmith>=0.1.17->langchain) (1.0.9)\n",
            "Requirement already satisfied: h11>=0.16 in /usr/local/lib/python3.12/dist-packages (from httpcore==1.*->httpx<1,>=0.23.0->langsmith>=0.1.17->langchain) (0.16.0)\n",
            "Requirement already satisfied: jsonpointer>=1.9 in /usr/local/lib/python3.12/dist-packages (from jsonpatch<2.0.0,>=1.33.0->langchain-core<1.0.0,>=0.3.72->langchain) (3.0.0)\n",
            "Requirement already satisfied: sniffio>=1.1 in /usr/local/lib/python3.12/dist-packages (from anyio->httpx<1,>=0.23.0->langsmith>=0.1.17->langchain) (1.3.1)\n",
            "Collecting langchain_openai\n",
            "  Downloading langchain_openai-0.3.35-py3-none-any.whl.metadata (2.4 kB)\n",
            "Collecting langchain-core<1.0.0,>=0.3.78 (from langchain_openai)\n",
            "  Downloading langchain_core-0.3.78-py3-none-any.whl.metadata (3.2 kB)\n",
            "Requirement already satisfied: openai<3.0.0,>=1.104.2 in /usr/local/lib/python3.12/dist-packages (from langchain_openai) (1.109.1)\n",
            "Requirement already satisfied: tiktoken<1.0.0,>=0.7.0 in /usr/local/lib/python3.12/dist-packages (from langchain_openai) (0.11.0)\n",
            "Requirement already satisfied: langsmith<1.0.0,>=0.3.45 in /usr/local/lib/python3.12/dist-packages (from langchain-core<1.0.0,>=0.3.78->langchain_openai) (0.4.31)\n",
            "Requirement already satisfied: tenacity!=8.4.0,<10.0.0,>=8.1.0 in /usr/local/lib/python3.12/dist-packages (from langchain-core<1.0.0,>=0.3.78->langchain_openai) (8.5.0)\n",
            "Requirement already satisfied: jsonpatch<2.0.0,>=1.33.0 in /usr/local/lib/python3.12/dist-packages (from langchain-core<1.0.0,>=0.3.78->langchain_openai) (1.33)\n",
            "Requirement already satisfied: PyYAML<7.0.0,>=5.3.0 in /usr/local/lib/python3.12/dist-packages (from langchain-core<1.0.0,>=0.3.78->langchain_openai) (6.0.3)\n",
            "Requirement already satisfied: typing-extensions<5.0.0,>=4.7.0 in /usr/local/lib/python3.12/dist-packages (from langchain-core<1.0.0,>=0.3.78->langchain_openai) (4.15.0)\n",
            "Requirement already satisfied: packaging<26.0.0,>=23.2.0 in /usr/local/lib/python3.12/dist-packages (from langchain-core<1.0.0,>=0.3.78->langchain_openai) (25.0)\n",
            "Requirement already satisfied: pydantic<3.0.0,>=2.7.4 in /usr/local/lib/python3.12/dist-packages (from langchain-core<1.0.0,>=0.3.78->langchain_openai) (2.11.9)\n",
            "Requirement already satisfied: anyio<5,>=3.5.0 in /usr/local/lib/python3.12/dist-packages (from openai<3.0.0,>=1.104.2->langchain_openai) (4.11.0)\n",
            "Requirement already satisfied: distro<2,>=1.7.0 in /usr/local/lib/python3.12/dist-packages (from openai<3.0.0,>=1.104.2->langchain_openai) (1.9.0)\n",
            "Requirement already satisfied: httpx<1,>=0.23.0 in /usr/local/lib/python3.12/dist-packages (from openai<3.0.0,>=1.104.2->langchain_openai) (0.28.1)\n",
            "Requirement already satisfied: jiter<1,>=0.4.0 in /usr/local/lib/python3.12/dist-packages (from openai<3.0.0,>=1.104.2->langchain_openai) (0.11.0)\n",
            "Requirement already satisfied: sniffio in /usr/local/lib/python3.12/dist-packages (from openai<3.0.0,>=1.104.2->langchain_openai) (1.3.1)\n",
            "Requirement already satisfied: tqdm>4 in /usr/local/lib/python3.12/dist-packages (from openai<3.0.0,>=1.104.2->langchain_openai) (4.67.1)\n",
            "Requirement already satisfied: regex>=2022.1.18 in /usr/local/lib/python3.12/dist-packages (from tiktoken<1.0.0,>=0.7.0->langchain_openai) (2024.11.6)\n",
            "Requirement already satisfied: requests>=2.26.0 in /usr/local/lib/python3.12/dist-packages (from tiktoken<1.0.0,>=0.7.0->langchain_openai) (2.32.4)\n",
            "Requirement already satisfied: idna>=2.8 in /usr/local/lib/python3.12/dist-packages (from anyio<5,>=3.5.0->openai<3.0.0,>=1.104.2->langchain_openai) (3.10)\n",
            "Requirement already satisfied: certifi in /usr/local/lib/python3.12/dist-packages (from httpx<1,>=0.23.0->openai<3.0.0,>=1.104.2->langchain_openai) (2025.8.3)\n",
            "Requirement already satisfied: httpcore==1.* in /usr/local/lib/python3.12/dist-packages (from httpx<1,>=0.23.0->openai<3.0.0,>=1.104.2->langchain_openai) (1.0.9)\n",
            "Requirement already satisfied: h11>=0.16 in /usr/local/lib/python3.12/dist-packages (from httpcore==1.*->httpx<1,>=0.23.0->openai<3.0.0,>=1.104.2->langchain_openai) (0.16.0)\n",
            "Requirement already satisfied: jsonpointer>=1.9 in /usr/local/lib/python3.12/dist-packages (from jsonpatch<2.0.0,>=1.33.0->langchain-core<1.0.0,>=0.3.78->langchain_openai) (3.0.0)\n",
            "Requirement already satisfied: orjson>=3.9.14 in /usr/local/lib/python3.12/dist-packages (from langsmith<1.0.0,>=0.3.45->langchain-core<1.0.0,>=0.3.78->langchain_openai) (3.11.3)\n",
            "Requirement already satisfied: requests-toolbelt>=1.0.0 in /usr/local/lib/python3.12/dist-packages (from langsmith<1.0.0,>=0.3.45->langchain-core<1.0.0,>=0.3.78->langchain_openai) (1.0.0)\n",
            "Requirement already satisfied: zstandard>=0.23.0 in /usr/local/lib/python3.12/dist-packages (from langsmith<1.0.0,>=0.3.45->langchain-core<1.0.0,>=0.3.78->langchain_openai) (0.25.0)\n",
            "Requirement already satisfied: annotated-types>=0.6.0 in /usr/local/lib/python3.12/dist-packages (from pydantic<3.0.0,>=2.7.4->langchain-core<1.0.0,>=0.3.78->langchain_openai) (0.7.0)\n",
            "Requirement already satisfied: pydantic-core==2.33.2 in /usr/local/lib/python3.12/dist-packages (from pydantic<3.0.0,>=2.7.4->langchain-core<1.0.0,>=0.3.78->langchain_openai) (2.33.2)\n",
            "Requirement already satisfied: typing-inspection>=0.4.0 in /usr/local/lib/python3.12/dist-packages (from pydantic<3.0.0,>=2.7.4->langchain-core<1.0.0,>=0.3.78->langchain_openai) (0.4.2)\n",
            "Requirement already satisfied: charset_normalizer<4,>=2 in /usr/local/lib/python3.12/dist-packages (from requests>=2.26.0->tiktoken<1.0.0,>=0.7.0->langchain_openai) (3.4.3)\n",
            "Requirement already satisfied: urllib3<3,>=1.21.1 in /usr/local/lib/python3.12/dist-packages (from requests>=2.26.0->tiktoken<1.0.0,>=0.7.0->langchain_openai) (2.5.0)\n",
            "Downloading langchain_openai-0.3.35-py3-none-any.whl (75 kB)\n",
            "\u001b[2K   \u001b[90m━━━━━━━━━━━━━━━━━━━━━━━━━━━━━━━━━━━━━━━━\u001b[0m \u001b[32m76.0/76.0 kB\u001b[0m \u001b[31m3.0 MB/s\u001b[0m eta \u001b[36m0:00:00\u001b[0m\n",
            "\u001b[?25hDownloading langchain_core-0.3.78-py3-none-any.whl (449 kB)\n",
            "\u001b[2K   \u001b[90m━━━━━━━━━━━━━━━━━━━━━━━━━━━━━━━━━━━━━━━━\u001b[0m \u001b[32m449.6/449.6 kB\u001b[0m \u001b[31m15.1 MB/s\u001b[0m eta \u001b[36m0:00:00\u001b[0m\n",
            "\u001b[?25hInstalling collected packages: langchain-core, langchain_openai\n",
            "  Attempting uninstall: langchain-core\n",
            "    Found existing installation: langchain-core 0.3.77\n",
            "    Uninstalling langchain-core-0.3.77:\n",
            "      Successfully uninstalled langchain-core-0.3.77\n",
            "Successfully installed langchain-core-0.3.78 langchain_openai-0.3.35\n",
            "Collecting langchain_community\n",
            "  Downloading langchain_community-0.3.31-py3-none-any.whl.metadata (3.0 kB)\n",
            "Requirement already satisfied: langchain-core<2.0.0,>=0.3.78 in /usr/local/lib/python3.12/dist-packages (from langchain_community) (0.3.78)\n",
            "Requirement already satisfied: langchain<2.0.0,>=0.3.27 in /usr/local/lib/python3.12/dist-packages (from langchain_community) (0.3.27)\n",
            "Requirement already satisfied: SQLAlchemy<3.0.0,>=1.4.0 in /usr/local/lib/python3.12/dist-packages (from langchain_community) (2.0.43)\n",
            "Collecting requests<3.0.0,>=2.32.5 (from langchain_community)\n",
            "  Downloading requests-2.32.5-py3-none-any.whl.metadata (4.9 kB)\n",
            "Requirement already satisfied: PyYAML<7.0.0,>=5.3.0 in /usr/local/lib/python3.12/dist-packages (from langchain_community) (6.0.3)\n",
            "Requirement already satisfied: aiohttp<4.0.0,>=3.8.3 in /usr/local/lib/python3.12/dist-packages (from langchain_community) (3.12.15)\n",
            "Requirement already satisfied: tenacity!=8.4.0,<10.0.0,>=8.1.0 in /usr/local/lib/python3.12/dist-packages (from langchain_community) (8.5.0)\n",
            "Collecting dataclasses-json<0.7.0,>=0.6.7 (from langchain_community)\n",
            "  Downloading dataclasses_json-0.6.7-py3-none-any.whl.metadata (25 kB)\n",
            "Requirement already satisfied: pydantic-settings<3.0.0,>=2.10.1 in /usr/local/lib/python3.12/dist-packages (from langchain_community) (2.11.0)\n",
            "Requirement already satisfied: langsmith<1.0.0,>=0.1.125 in /usr/local/lib/python3.12/dist-packages (from langchain_community) (0.4.31)\n",
            "Requirement already satisfied: httpx-sse<1.0.0,>=0.4.0 in /usr/local/lib/python3.12/dist-packages (from langchain_community) (0.4.1)\n",
            "Requirement already satisfied: numpy>=1.26.2 in /usr/local/lib/python3.12/dist-packages (from langchain_community) (2.0.2)\n",
            "Requirement already satisfied: aiohappyeyeballs>=2.5.0 in /usr/local/lib/python3.12/dist-packages (from aiohttp<4.0.0,>=3.8.3->langchain_community) (2.6.1)\n",
            "Requirement already satisfied: aiosignal>=1.4.0 in /usr/local/lib/python3.12/dist-packages (from aiohttp<4.0.0,>=3.8.3->langchain_community) (1.4.0)\n",
            "Requirement already satisfied: attrs>=17.3.0 in /usr/local/lib/python3.12/dist-packages (from aiohttp<4.0.0,>=3.8.3->langchain_community) (25.3.0)\n",
            "Requirement already satisfied: frozenlist>=1.1.1 in /usr/local/lib/python3.12/dist-packages (from aiohttp<4.0.0,>=3.8.3->langchain_community) (1.7.0)\n",
            "Requirement already satisfied: multidict<7.0,>=4.5 in /usr/local/lib/python3.12/dist-packages (from aiohttp<4.0.0,>=3.8.3->langchain_community) (6.6.4)\n",
            "Requirement already satisfied: propcache>=0.2.0 in /usr/local/lib/python3.12/dist-packages (from aiohttp<4.0.0,>=3.8.3->langchain_community) (0.3.2)\n",
            "Requirement already satisfied: yarl<2.0,>=1.17.0 in /usr/local/lib/python3.12/dist-packages (from aiohttp<4.0.0,>=3.8.3->langchain_community) (1.20.1)\n",
            "Collecting marshmallow<4.0.0,>=3.18.0 (from dataclasses-json<0.7.0,>=0.6.7->langchain_community)\n",
            "  Downloading marshmallow-3.26.1-py3-none-any.whl.metadata (7.3 kB)\n",
            "Collecting typing-inspect<1,>=0.4.0 (from dataclasses-json<0.7.0,>=0.6.7->langchain_community)\n",
            "  Downloading typing_inspect-0.9.0-py3-none-any.whl.metadata (1.5 kB)\n",
            "Requirement already satisfied: langchain-text-splitters<1.0.0,>=0.3.9 in /usr/local/lib/python3.12/dist-packages (from langchain<2.0.0,>=0.3.27->langchain_community) (0.3.11)\n",
            "Requirement already satisfied: pydantic<3.0.0,>=2.7.4 in /usr/local/lib/python3.12/dist-packages (from langchain<2.0.0,>=0.3.27->langchain_community) (2.11.9)\n",
            "Requirement already satisfied: jsonpatch<2.0.0,>=1.33.0 in /usr/local/lib/python3.12/dist-packages (from langchain-core<2.0.0,>=0.3.78->langchain_community) (1.33)\n",
            "Requirement already satisfied: typing-extensions<5.0.0,>=4.7.0 in /usr/local/lib/python3.12/dist-packages (from langchain-core<2.0.0,>=0.3.78->langchain_community) (4.15.0)\n",
            "Requirement already satisfied: packaging<26.0.0,>=23.2.0 in /usr/local/lib/python3.12/dist-packages (from langchain-core<2.0.0,>=0.3.78->langchain_community) (25.0)\n",
            "Requirement already satisfied: httpx<1,>=0.23.0 in /usr/local/lib/python3.12/dist-packages (from langsmith<1.0.0,>=0.1.125->langchain_community) (0.28.1)\n",
            "Requirement already satisfied: orjson>=3.9.14 in /usr/local/lib/python3.12/dist-packages (from langsmith<1.0.0,>=0.1.125->langchain_community) (3.11.3)\n",
            "Requirement already satisfied: requests-toolbelt>=1.0.0 in /usr/local/lib/python3.12/dist-packages (from langsmith<1.0.0,>=0.1.125->langchain_community) (1.0.0)\n",
            "Requirement already satisfied: zstandard>=0.23.0 in /usr/local/lib/python3.12/dist-packages (from langsmith<1.0.0,>=0.1.125->langchain_community) (0.25.0)\n",
            "Requirement already satisfied: python-dotenv>=0.21.0 in /usr/local/lib/python3.12/dist-packages (from pydantic-settings<3.0.0,>=2.10.1->langchain_community) (1.1.1)\n",
            "Requirement already satisfied: typing-inspection>=0.4.0 in /usr/local/lib/python3.12/dist-packages (from pydantic-settings<3.0.0,>=2.10.1->langchain_community) (0.4.2)\n",
            "Requirement already satisfied: charset_normalizer<4,>=2 in /usr/local/lib/python3.12/dist-packages (from requests<3.0.0,>=2.32.5->langchain_community) (3.4.3)\n",
            "Requirement already satisfied: idna<4,>=2.5 in /usr/local/lib/python3.12/dist-packages (from requests<3.0.0,>=2.32.5->langchain_community) (3.10)\n",
            "Requirement already satisfied: urllib3<3,>=1.21.1 in /usr/local/lib/python3.12/dist-packages (from requests<3.0.0,>=2.32.5->langchain_community) (2.5.0)\n",
            "Requirement already satisfied: certifi>=2017.4.17 in /usr/local/lib/python3.12/dist-packages (from requests<3.0.0,>=2.32.5->langchain_community) (2025.8.3)\n",
            "Requirement already satisfied: greenlet>=1 in /usr/local/lib/python3.12/dist-packages (from SQLAlchemy<3.0.0,>=1.4.0->langchain_community) (3.2.4)\n",
            "Requirement already satisfied: anyio in /usr/local/lib/python3.12/dist-packages (from httpx<1,>=0.23.0->langsmith<1.0.0,>=0.1.125->langchain_community) (4.11.0)\n",
            "Requirement already satisfied: httpcore==1.* in /usr/local/lib/python3.12/dist-packages (from httpx<1,>=0.23.0->langsmith<1.0.0,>=0.1.125->langchain_community) (1.0.9)\n",
            "Requirement already satisfied: h11>=0.16 in /usr/local/lib/python3.12/dist-packages (from httpcore==1.*->httpx<1,>=0.23.0->langsmith<1.0.0,>=0.1.125->langchain_community) (0.16.0)\n",
            "Requirement already satisfied: jsonpointer>=1.9 in /usr/local/lib/python3.12/dist-packages (from jsonpatch<2.0.0,>=1.33.0->langchain-core<2.0.0,>=0.3.78->langchain_community) (3.0.0)\n",
            "Requirement already satisfied: annotated-types>=0.6.0 in /usr/local/lib/python3.12/dist-packages (from pydantic<3.0.0,>=2.7.4->langchain<2.0.0,>=0.3.27->langchain_community) (0.7.0)\n",
            "Requirement already satisfied: pydantic-core==2.33.2 in /usr/local/lib/python3.12/dist-packages (from pydantic<3.0.0,>=2.7.4->langchain<2.0.0,>=0.3.27->langchain_community) (2.33.2)\n",
            "Collecting mypy-extensions>=0.3.0 (from typing-inspect<1,>=0.4.0->dataclasses-json<0.7.0,>=0.6.7->langchain_community)\n",
            "  Downloading mypy_extensions-1.1.0-py3-none-any.whl.metadata (1.1 kB)\n",
            "Requirement already satisfied: sniffio>=1.1 in /usr/local/lib/python3.12/dist-packages (from anyio->httpx<1,>=0.23.0->langsmith<1.0.0,>=0.1.125->langchain_community) (1.3.1)\n",
            "Downloading langchain_community-0.3.31-py3-none-any.whl (2.5 MB)\n",
            "\u001b[2K   \u001b[90m━━━━━━━━━━━━━━━━━━━━━━━━━━━━━━━━━━━━━━━━\u001b[0m \u001b[32m2.5/2.5 MB\u001b[0m \u001b[31m29.0 MB/s\u001b[0m eta \u001b[36m0:00:00\u001b[0m\n",
            "\u001b[?25hDownloading dataclasses_json-0.6.7-py3-none-any.whl (28 kB)\n",
            "Downloading requests-2.32.5-py3-none-any.whl (64 kB)\n",
            "\u001b[2K   \u001b[90m━━━━━━━━━━━━━━━━━━━━━━━━━━━━━━━━━━━━━━━━\u001b[0m \u001b[32m64.7/64.7 kB\u001b[0m \u001b[31m5.5 MB/s\u001b[0m eta \u001b[36m0:00:00\u001b[0m\n",
            "\u001b[?25hDownloading marshmallow-3.26.1-py3-none-any.whl (50 kB)\n",
            "\u001b[2K   \u001b[90m━━━━━━━━━━━━━━━━━━━━━━━━━━━━━━━━━━━━━━━━\u001b[0m \u001b[32m50.9/50.9 kB\u001b[0m \u001b[31m3.9 MB/s\u001b[0m eta \u001b[36m0:00:00\u001b[0m\n",
            "\u001b[?25hDownloading typing_inspect-0.9.0-py3-none-any.whl (8.8 kB)\n",
            "Downloading mypy_extensions-1.1.0-py3-none-any.whl (5.0 kB)\n",
            "Installing collected packages: requests, mypy-extensions, marshmallow, typing-inspect, dataclasses-json, langchain_community\n",
            "  Attempting uninstall: requests\n",
            "    Found existing installation: requests 2.32.4\n",
            "    Uninstalling requests-2.32.4:\n",
            "      Successfully uninstalled requests-2.32.4\n",
            "\u001b[31mERROR: pip's dependency resolver does not currently take into account all the packages that are installed. This behaviour is the source of the following dependency conflicts.\n",
            "google-colab 1.0.0 requires requests==2.32.4, but you have requests 2.32.5 which is incompatible.\u001b[0m\u001b[31m\n",
            "\u001b[0mSuccessfully installed dataclasses-json-0.6.7 langchain_community-0.3.31 marshmallow-3.26.1 mypy-extensions-1.1.0 requests-2.32.5 typing-inspect-0.9.0\n",
            "Collecting langgraph\n",
            "  Downloading langgraph-0.6.9-py3-none-any.whl.metadata (6.8 kB)\n",
            "Requirement already satisfied: langchain-core>=0.1 in /usr/local/lib/python3.12/dist-packages (from langgraph) (0.3.78)\n",
            "Collecting langgraph-checkpoint<3.0.0,>=2.1.0 (from langgraph)\n",
            "  Downloading langgraph_checkpoint-2.1.2-py3-none-any.whl.metadata (4.2 kB)\n",
            "Collecting langgraph-prebuilt<0.7.0,>=0.6.0 (from langgraph)\n",
            "  Downloading langgraph_prebuilt-0.6.4-py3-none-any.whl.metadata (4.5 kB)\n",
            "Collecting langgraph-sdk<0.3.0,>=0.2.2 (from langgraph)\n",
            "  Downloading langgraph_sdk-0.2.9-py3-none-any.whl.metadata (1.5 kB)\n",
            "Requirement already satisfied: pydantic>=2.7.4 in /usr/local/lib/python3.12/dist-packages (from langgraph) (2.11.9)\n",
            "Requirement already satisfied: xxhash>=3.5.0 in /usr/local/lib/python3.12/dist-packages (from langgraph) (3.5.0)\n",
            "Requirement already satisfied: langsmith<1.0.0,>=0.3.45 in /usr/local/lib/python3.12/dist-packages (from langchain-core>=0.1->langgraph) (0.4.31)\n",
            "Requirement already satisfied: tenacity!=8.4.0,<10.0.0,>=8.1.0 in /usr/local/lib/python3.12/dist-packages (from langchain-core>=0.1->langgraph) (8.5.0)\n",
            "Requirement already satisfied: jsonpatch<2.0.0,>=1.33.0 in /usr/local/lib/python3.12/dist-packages (from langchain-core>=0.1->langgraph) (1.33)\n",
            "Requirement already satisfied: PyYAML<7.0.0,>=5.3.0 in /usr/local/lib/python3.12/dist-packages (from langchain-core>=0.1->langgraph) (6.0.3)\n",
            "Requirement already satisfied: typing-extensions<5.0.0,>=4.7.0 in /usr/local/lib/python3.12/dist-packages (from langchain-core>=0.1->langgraph) (4.15.0)\n",
            "Requirement already satisfied: packaging<26.0.0,>=23.2.0 in /usr/local/lib/python3.12/dist-packages (from langchain-core>=0.1->langgraph) (25.0)\n",
            "Collecting ormsgpack>=1.10.0 (from langgraph-checkpoint<3.0.0,>=2.1.0->langgraph)\n",
            "  Downloading ormsgpack-1.10.0-cp312-cp312-manylinux_2_17_x86_64.manylinux2014_x86_64.whl.metadata (43 kB)\n",
            "\u001b[2K     \u001b[90m━━━━━━━━━━━━━━━━━━━━━━━━━━━━━━━━━━━━━━━━\u001b[0m \u001b[32m43.7/43.7 kB\u001b[0m \u001b[31m1.9 MB/s\u001b[0m eta \u001b[36m0:00:00\u001b[0m\n",
            "\u001b[?25hRequirement already satisfied: httpx>=0.25.2 in /usr/local/lib/python3.12/dist-packages (from langgraph-sdk<0.3.0,>=0.2.2->langgraph) (0.28.1)\n",
            "Requirement already satisfied: orjson>=3.10.1 in /usr/local/lib/python3.12/dist-packages (from langgraph-sdk<0.3.0,>=0.2.2->langgraph) (3.11.3)\n",
            "Requirement already satisfied: annotated-types>=0.6.0 in /usr/local/lib/python3.12/dist-packages (from pydantic>=2.7.4->langgraph) (0.7.0)\n",
            "Requirement already satisfied: pydantic-core==2.33.2 in /usr/local/lib/python3.12/dist-packages (from pydantic>=2.7.4->langgraph) (2.33.2)\n",
            "Requirement already satisfied: typing-inspection>=0.4.0 in /usr/local/lib/python3.12/dist-packages (from pydantic>=2.7.4->langgraph) (0.4.2)\n",
            "Requirement already satisfied: anyio in /usr/local/lib/python3.12/dist-packages (from httpx>=0.25.2->langgraph-sdk<0.3.0,>=0.2.2->langgraph) (4.11.0)\n",
            "Requirement already satisfied: certifi in /usr/local/lib/python3.12/dist-packages (from httpx>=0.25.2->langgraph-sdk<0.3.0,>=0.2.2->langgraph) (2025.8.3)\n",
            "Requirement already satisfied: httpcore==1.* in /usr/local/lib/python3.12/dist-packages (from httpx>=0.25.2->langgraph-sdk<0.3.0,>=0.2.2->langgraph) (1.0.9)\n",
            "Requirement already satisfied: idna in /usr/local/lib/python3.12/dist-packages (from httpx>=0.25.2->langgraph-sdk<0.3.0,>=0.2.2->langgraph) (3.10)\n",
            "Requirement already satisfied: h11>=0.16 in /usr/local/lib/python3.12/dist-packages (from httpcore==1.*->httpx>=0.25.2->langgraph-sdk<0.3.0,>=0.2.2->langgraph) (0.16.0)\n",
            "Requirement already satisfied: jsonpointer>=1.9 in /usr/local/lib/python3.12/dist-packages (from jsonpatch<2.0.0,>=1.33.0->langchain-core>=0.1->langgraph) (3.0.0)\n",
            "Requirement already satisfied: requests-toolbelt>=1.0.0 in /usr/local/lib/python3.12/dist-packages (from langsmith<1.0.0,>=0.3.45->langchain-core>=0.1->langgraph) (1.0.0)\n",
            "Requirement already satisfied: requests>=2.0.0 in /usr/local/lib/python3.12/dist-packages (from langsmith<1.0.0,>=0.3.45->langchain-core>=0.1->langgraph) (2.32.5)\n",
            "Requirement already satisfied: zstandard>=0.23.0 in /usr/local/lib/python3.12/dist-packages (from langsmith<1.0.0,>=0.3.45->langchain-core>=0.1->langgraph) (0.25.0)\n",
            "Requirement already satisfied: charset_normalizer<4,>=2 in /usr/local/lib/python3.12/dist-packages (from requests>=2.0.0->langsmith<1.0.0,>=0.3.45->langchain-core>=0.1->langgraph) (3.4.3)\n",
            "Requirement already satisfied: urllib3<3,>=1.21.1 in /usr/local/lib/python3.12/dist-packages (from requests>=2.0.0->langsmith<1.0.0,>=0.3.45->langchain-core>=0.1->langgraph) (2.5.0)\n",
            "Requirement already satisfied: sniffio>=1.1 in /usr/local/lib/python3.12/dist-packages (from anyio->httpx>=0.25.2->langgraph-sdk<0.3.0,>=0.2.2->langgraph) (1.3.1)\n",
            "Downloading langgraph-0.6.9-py3-none-any.whl (156 kB)\n",
            "\u001b[2K   \u001b[90m━━━━━━━━━━━━━━━━━━━━━━━━━━━━━━━━━━━━━━━━\u001b[0m \u001b[32m156.3/156.3 kB\u001b[0m \u001b[31m6.8 MB/s\u001b[0m eta \u001b[36m0:00:00\u001b[0m\n",
            "\u001b[?25hDownloading langgraph_checkpoint-2.1.2-py3-none-any.whl (45 kB)\n",
            "\u001b[2K   \u001b[90m━━━━━━━━━━━━━━━━━━━━━━━━━━━━━━━━━━━━━━━━\u001b[0m \u001b[32m45.8/45.8 kB\u001b[0m \u001b[31m2.8 MB/s\u001b[0m eta \u001b[36m0:00:00\u001b[0m\n",
            "\u001b[?25hDownloading langgraph_prebuilt-0.6.4-py3-none-any.whl (28 kB)\n",
            "Downloading langgraph_sdk-0.2.9-py3-none-any.whl (56 kB)\n",
            "\u001b[2K   \u001b[90m━━━━━━━━━━━━━━━━━━━━━━━━━━━━━━━━━━━━━━━━\u001b[0m \u001b[32m56.8/56.8 kB\u001b[0m \u001b[31m3.4 MB/s\u001b[0m eta \u001b[36m0:00:00\u001b[0m\n",
            "\u001b[?25hDownloading ormsgpack-1.10.0-cp312-cp312-manylinux_2_17_x86_64.manylinux2014_x86_64.whl (216 kB)\n",
            "\u001b[2K   \u001b[90m━━━━━━━━━━━━━━━━━━━━━━━━━━━━━━━━━━━━━━━━\u001b[0m \u001b[32m216.7/216.7 kB\u001b[0m \u001b[31m14.1 MB/s\u001b[0m eta \u001b[36m0:00:00\u001b[0m\n",
            "\u001b[?25hInstalling collected packages: ormsgpack, langgraph-sdk, langgraph-checkpoint, langgraph-prebuilt, langgraph\n",
            "Successfully installed langgraph-0.6.9 langgraph-checkpoint-2.1.2 langgraph-prebuilt-0.6.4 langgraph-sdk-0.2.9 ormsgpack-1.10.0\n",
            "Collecting langchain-experimental\n",
            "  Downloading langchain_experimental-0.3.4-py3-none-any.whl.metadata (1.7 kB)\n",
            "Requirement already satisfied: langchain-community<0.4.0,>=0.3.0 in /usr/local/lib/python3.12/dist-packages (from langchain-experimental) (0.3.31)\n",
            "Requirement already satisfied: langchain-core<0.4.0,>=0.3.28 in /usr/local/lib/python3.12/dist-packages (from langchain-experimental) (0.3.78)\n",
            "Requirement already satisfied: langchain<2.0.0,>=0.3.27 in /usr/local/lib/python3.12/dist-packages (from langchain-community<0.4.0,>=0.3.0->langchain-experimental) (0.3.27)\n",
            "Requirement already satisfied: SQLAlchemy<3.0.0,>=1.4.0 in /usr/local/lib/python3.12/dist-packages (from langchain-community<0.4.0,>=0.3.0->langchain-experimental) (2.0.43)\n",
            "Requirement already satisfied: requests<3.0.0,>=2.32.5 in /usr/local/lib/python3.12/dist-packages (from langchain-community<0.4.0,>=0.3.0->langchain-experimental) (2.32.5)\n",
            "Requirement already satisfied: PyYAML<7.0.0,>=5.3.0 in /usr/local/lib/python3.12/dist-packages (from langchain-community<0.4.0,>=0.3.0->langchain-experimental) (6.0.3)\n",
            "Requirement already satisfied: aiohttp<4.0.0,>=3.8.3 in /usr/local/lib/python3.12/dist-packages (from langchain-community<0.4.0,>=0.3.0->langchain-experimental) (3.12.15)\n",
            "Requirement already satisfied: tenacity!=8.4.0,<10.0.0,>=8.1.0 in /usr/local/lib/python3.12/dist-packages (from langchain-community<0.4.0,>=0.3.0->langchain-experimental) (8.5.0)\n",
            "Requirement already satisfied: dataclasses-json<0.7.0,>=0.6.7 in /usr/local/lib/python3.12/dist-packages (from langchain-community<0.4.0,>=0.3.0->langchain-experimental) (0.6.7)\n",
            "Requirement already satisfied: pydantic-settings<3.0.0,>=2.10.1 in /usr/local/lib/python3.12/dist-packages (from langchain-community<0.4.0,>=0.3.0->langchain-experimental) (2.11.0)\n",
            "Requirement already satisfied: langsmith<1.0.0,>=0.1.125 in /usr/local/lib/python3.12/dist-packages (from langchain-community<0.4.0,>=0.3.0->langchain-experimental) (0.4.31)\n",
            "Requirement already satisfied: httpx-sse<1.0.0,>=0.4.0 in /usr/local/lib/python3.12/dist-packages (from langchain-community<0.4.0,>=0.3.0->langchain-experimental) (0.4.1)\n",
            "Requirement already satisfied: numpy>=1.26.2 in /usr/local/lib/python3.12/dist-packages (from langchain-community<0.4.0,>=0.3.0->langchain-experimental) (2.0.2)\n",
            "Requirement already satisfied: jsonpatch<2.0.0,>=1.33.0 in /usr/local/lib/python3.12/dist-packages (from langchain-core<0.4.0,>=0.3.28->langchain-experimental) (1.33)\n",
            "Requirement already satisfied: typing-extensions<5.0.0,>=4.7.0 in /usr/local/lib/python3.12/dist-packages (from langchain-core<0.4.0,>=0.3.28->langchain-experimental) (4.15.0)\n",
            "Requirement already satisfied: packaging<26.0.0,>=23.2.0 in /usr/local/lib/python3.12/dist-packages (from langchain-core<0.4.0,>=0.3.28->langchain-experimental) (25.0)\n",
            "Requirement already satisfied: pydantic<3.0.0,>=2.7.4 in /usr/local/lib/python3.12/dist-packages (from langchain-core<0.4.0,>=0.3.28->langchain-experimental) (2.11.9)\n",
            "Requirement already satisfied: aiohappyeyeballs>=2.5.0 in /usr/local/lib/python3.12/dist-packages (from aiohttp<4.0.0,>=3.8.3->langchain-community<0.4.0,>=0.3.0->langchain-experimental) (2.6.1)\n",
            "Requirement already satisfied: aiosignal>=1.4.0 in /usr/local/lib/python3.12/dist-packages (from aiohttp<4.0.0,>=3.8.3->langchain-community<0.4.0,>=0.3.0->langchain-experimental) (1.4.0)\n",
            "Requirement already satisfied: attrs>=17.3.0 in /usr/local/lib/python3.12/dist-packages (from aiohttp<4.0.0,>=3.8.3->langchain-community<0.4.0,>=0.3.0->langchain-experimental) (25.3.0)\n",
            "Requirement already satisfied: frozenlist>=1.1.1 in /usr/local/lib/python3.12/dist-packages (from aiohttp<4.0.0,>=3.8.3->langchain-community<0.4.0,>=0.3.0->langchain-experimental) (1.7.0)\n",
            "Requirement already satisfied: multidict<7.0,>=4.5 in /usr/local/lib/python3.12/dist-packages (from aiohttp<4.0.0,>=3.8.3->langchain-community<0.4.0,>=0.3.0->langchain-experimental) (6.6.4)\n",
            "Requirement already satisfied: propcache>=0.2.0 in /usr/local/lib/python3.12/dist-packages (from aiohttp<4.0.0,>=3.8.3->langchain-community<0.4.0,>=0.3.0->langchain-experimental) (0.3.2)\n",
            "Requirement already satisfied: yarl<2.0,>=1.17.0 in /usr/local/lib/python3.12/dist-packages (from aiohttp<4.0.0,>=3.8.3->langchain-community<0.4.0,>=0.3.0->langchain-experimental) (1.20.1)\n",
            "Requirement already satisfied: marshmallow<4.0.0,>=3.18.0 in /usr/local/lib/python3.12/dist-packages (from dataclasses-json<0.7.0,>=0.6.7->langchain-community<0.4.0,>=0.3.0->langchain-experimental) (3.26.1)\n",
            "Requirement already satisfied: typing-inspect<1,>=0.4.0 in /usr/local/lib/python3.12/dist-packages (from dataclasses-json<0.7.0,>=0.6.7->langchain-community<0.4.0,>=0.3.0->langchain-experimental) (0.9.0)\n",
            "Requirement already satisfied: jsonpointer>=1.9 in /usr/local/lib/python3.12/dist-packages (from jsonpatch<2.0.0,>=1.33.0->langchain-core<0.4.0,>=0.3.28->langchain-experimental) (3.0.0)\n",
            "Requirement already satisfied: langchain-text-splitters<1.0.0,>=0.3.9 in /usr/local/lib/python3.12/dist-packages (from langchain<2.0.0,>=0.3.27->langchain-community<0.4.0,>=0.3.0->langchain-experimental) (0.3.11)\n",
            "Requirement already satisfied: httpx<1,>=0.23.0 in /usr/local/lib/python3.12/dist-packages (from langsmith<1.0.0,>=0.1.125->langchain-community<0.4.0,>=0.3.0->langchain-experimental) (0.28.1)\n",
            "Requirement already satisfied: orjson>=3.9.14 in /usr/local/lib/python3.12/dist-packages (from langsmith<1.0.0,>=0.1.125->langchain-community<0.4.0,>=0.3.0->langchain-experimental) (3.11.3)\n",
            "Requirement already satisfied: requests-toolbelt>=1.0.0 in /usr/local/lib/python3.12/dist-packages (from langsmith<1.0.0,>=0.1.125->langchain-community<0.4.0,>=0.3.0->langchain-experimental) (1.0.0)\n",
            "Requirement already satisfied: zstandard>=0.23.0 in /usr/local/lib/python3.12/dist-packages (from langsmith<1.0.0,>=0.1.125->langchain-community<0.4.0,>=0.3.0->langchain-experimental) (0.25.0)\n",
            "Requirement already satisfied: annotated-types>=0.6.0 in /usr/local/lib/python3.12/dist-packages (from pydantic<3.0.0,>=2.7.4->langchain-core<0.4.0,>=0.3.28->langchain-experimental) (0.7.0)\n",
            "Requirement already satisfied: pydantic-core==2.33.2 in /usr/local/lib/python3.12/dist-packages (from pydantic<3.0.0,>=2.7.4->langchain-core<0.4.0,>=0.3.28->langchain-experimental) (2.33.2)\n",
            "Requirement already satisfied: typing-inspection>=0.4.0 in /usr/local/lib/python3.12/dist-packages (from pydantic<3.0.0,>=2.7.4->langchain-core<0.4.0,>=0.3.28->langchain-experimental) (0.4.2)\n",
            "Requirement already satisfied: python-dotenv>=0.21.0 in /usr/local/lib/python3.12/dist-packages (from pydantic-settings<3.0.0,>=2.10.1->langchain-community<0.4.0,>=0.3.0->langchain-experimental) (1.1.1)\n",
            "Requirement already satisfied: charset_normalizer<4,>=2 in /usr/local/lib/python3.12/dist-packages (from requests<3.0.0,>=2.32.5->langchain-community<0.4.0,>=0.3.0->langchain-experimental) (3.4.3)\n",
            "Requirement already satisfied: idna<4,>=2.5 in /usr/local/lib/python3.12/dist-packages (from requests<3.0.0,>=2.32.5->langchain-community<0.4.0,>=0.3.0->langchain-experimental) (3.10)\n",
            "Requirement already satisfied: urllib3<3,>=1.21.1 in /usr/local/lib/python3.12/dist-packages (from requests<3.0.0,>=2.32.5->langchain-community<0.4.0,>=0.3.0->langchain-experimental) (2.5.0)\n",
            "Requirement already satisfied: certifi>=2017.4.17 in /usr/local/lib/python3.12/dist-packages (from requests<3.0.0,>=2.32.5->langchain-community<0.4.0,>=0.3.0->langchain-experimental) (2025.8.3)\n",
            "Requirement already satisfied: greenlet>=1 in /usr/local/lib/python3.12/dist-packages (from SQLAlchemy<3.0.0,>=1.4.0->langchain-community<0.4.0,>=0.3.0->langchain-experimental) (3.2.4)\n",
            "Requirement already satisfied: anyio in /usr/local/lib/python3.12/dist-packages (from httpx<1,>=0.23.0->langsmith<1.0.0,>=0.1.125->langchain-community<0.4.0,>=0.3.0->langchain-experimental) (4.11.0)\n",
            "Requirement already satisfied: httpcore==1.* in /usr/local/lib/python3.12/dist-packages (from httpx<1,>=0.23.0->langsmith<1.0.0,>=0.1.125->langchain-community<0.4.0,>=0.3.0->langchain-experimental) (1.0.9)\n",
            "Requirement already satisfied: h11>=0.16 in /usr/local/lib/python3.12/dist-packages (from httpcore==1.*->httpx<1,>=0.23.0->langsmith<1.0.0,>=0.1.125->langchain-community<0.4.0,>=0.3.0->langchain-experimental) (0.16.0)\n",
            "Requirement already satisfied: mypy-extensions>=0.3.0 in /usr/local/lib/python3.12/dist-packages (from typing-inspect<1,>=0.4.0->dataclasses-json<0.7.0,>=0.6.7->langchain-community<0.4.0,>=0.3.0->langchain-experimental) (1.1.0)\n",
            "Requirement already satisfied: sniffio>=1.1 in /usr/local/lib/python3.12/dist-packages (from anyio->httpx<1,>=0.23.0->langsmith<1.0.0,>=0.1.125->langchain-community<0.4.0,>=0.3.0->langchain-experimental) (1.3.1)\n",
            "Downloading langchain_experimental-0.3.4-py3-none-any.whl (209 kB)\n",
            "\u001b[2K   \u001b[90m━━━━━━━━━━━━━━━━━━━━━━━━━━━━━━━━━━━━━━━━\u001b[0m \u001b[32m209.2/209.2 kB\u001b[0m \u001b[31m4.8 MB/s\u001b[0m eta \u001b[36m0:00:00\u001b[0m\n",
            "\u001b[?25hInstalling collected packages: langchain-experimental\n",
            "Successfully installed langchain-experimental-0.3.4\n",
            "Collecting langchain-tavily\n",
            "  Downloading langchain_tavily-0.2.12-py3-none-any.whl.metadata (21 kB)\n",
            "Requirement already satisfied: aiohttp<4.0.0,>=3.11.14 in /usr/local/lib/python3.12/dist-packages (from langchain-tavily) (3.12.15)\n",
            "Requirement already satisfied: langchain<2.0.0,>=0.3.20 in /usr/local/lib/python3.12/dist-packages (from langchain-tavily) (0.3.27)\n",
            "Requirement already satisfied: langchain-core<2.0.0,>=0.3.15 in /usr/local/lib/python3.12/dist-packages (from langchain-tavily) (0.3.78)\n",
            "Requirement already satisfied: requests<3.0.0,>=2.32.3 in /usr/local/lib/python3.12/dist-packages (from langchain-tavily) (2.32.5)\n",
            "Requirement already satisfied: aiohappyeyeballs>=2.5.0 in /usr/local/lib/python3.12/dist-packages (from aiohttp<4.0.0,>=3.11.14->langchain-tavily) (2.6.1)\n",
            "Requirement already satisfied: aiosignal>=1.4.0 in /usr/local/lib/python3.12/dist-packages (from aiohttp<4.0.0,>=3.11.14->langchain-tavily) (1.4.0)\n",
            "Requirement already satisfied: attrs>=17.3.0 in /usr/local/lib/python3.12/dist-packages (from aiohttp<4.0.0,>=3.11.14->langchain-tavily) (25.3.0)\n",
            "Requirement already satisfied: frozenlist>=1.1.1 in /usr/local/lib/python3.12/dist-packages (from aiohttp<4.0.0,>=3.11.14->langchain-tavily) (1.7.0)\n",
            "Requirement already satisfied: multidict<7.0,>=4.5 in /usr/local/lib/python3.12/dist-packages (from aiohttp<4.0.0,>=3.11.14->langchain-tavily) (6.6.4)\n",
            "Requirement already satisfied: propcache>=0.2.0 in /usr/local/lib/python3.12/dist-packages (from aiohttp<4.0.0,>=3.11.14->langchain-tavily) (0.3.2)\n",
            "Requirement already satisfied: yarl<2.0,>=1.17.0 in /usr/local/lib/python3.12/dist-packages (from aiohttp<4.0.0,>=3.11.14->langchain-tavily) (1.20.1)\n",
            "Requirement already satisfied: langchain-text-splitters<1.0.0,>=0.3.9 in /usr/local/lib/python3.12/dist-packages (from langchain<2.0.0,>=0.3.20->langchain-tavily) (0.3.11)\n",
            "Requirement already satisfied: langsmith>=0.1.17 in /usr/local/lib/python3.12/dist-packages (from langchain<2.0.0,>=0.3.20->langchain-tavily) (0.4.31)\n",
            "Requirement already satisfied: pydantic<3.0.0,>=2.7.4 in /usr/local/lib/python3.12/dist-packages (from langchain<2.0.0,>=0.3.20->langchain-tavily) (2.11.9)\n",
            "Requirement already satisfied: SQLAlchemy<3,>=1.4 in /usr/local/lib/python3.12/dist-packages (from langchain<2.0.0,>=0.3.20->langchain-tavily) (2.0.43)\n",
            "Requirement already satisfied: PyYAML>=5.3 in /usr/local/lib/python3.12/dist-packages (from langchain<2.0.0,>=0.3.20->langchain-tavily) (6.0.3)\n",
            "Requirement already satisfied: tenacity!=8.4.0,<10.0.0,>=8.1.0 in /usr/local/lib/python3.12/dist-packages (from langchain-core<2.0.0,>=0.3.15->langchain-tavily) (8.5.0)\n",
            "Requirement already satisfied: jsonpatch<2.0.0,>=1.33.0 in /usr/local/lib/python3.12/dist-packages (from langchain-core<2.0.0,>=0.3.15->langchain-tavily) (1.33)\n",
            "Requirement already satisfied: typing-extensions<5.0.0,>=4.7.0 in /usr/local/lib/python3.12/dist-packages (from langchain-core<2.0.0,>=0.3.15->langchain-tavily) (4.15.0)\n",
            "Requirement already satisfied: packaging<26.0.0,>=23.2.0 in /usr/local/lib/python3.12/dist-packages (from langchain-core<2.0.0,>=0.3.15->langchain-tavily) (25.0)\n",
            "Requirement already satisfied: charset_normalizer<4,>=2 in /usr/local/lib/python3.12/dist-packages (from requests<3.0.0,>=2.32.3->langchain-tavily) (3.4.3)\n",
            "Requirement already satisfied: idna<4,>=2.5 in /usr/local/lib/python3.12/dist-packages (from requests<3.0.0,>=2.32.3->langchain-tavily) (3.10)\n",
            "Requirement already satisfied: urllib3<3,>=1.21.1 in /usr/local/lib/python3.12/dist-packages (from requests<3.0.0,>=2.32.3->langchain-tavily) (2.5.0)\n",
            "Requirement already satisfied: certifi>=2017.4.17 in /usr/local/lib/python3.12/dist-packages (from requests<3.0.0,>=2.32.3->langchain-tavily) (2025.8.3)\n",
            "Requirement already satisfied: jsonpointer>=1.9 in /usr/local/lib/python3.12/dist-packages (from jsonpatch<2.0.0,>=1.33.0->langchain-core<2.0.0,>=0.3.15->langchain-tavily) (3.0.0)\n",
            "Requirement already satisfied: httpx<1,>=0.23.0 in /usr/local/lib/python3.12/dist-packages (from langsmith>=0.1.17->langchain<2.0.0,>=0.3.20->langchain-tavily) (0.28.1)\n",
            "Requirement already satisfied: orjson>=3.9.14 in /usr/local/lib/python3.12/dist-packages (from langsmith>=0.1.17->langchain<2.0.0,>=0.3.20->langchain-tavily) (3.11.3)\n",
            "Requirement already satisfied: requests-toolbelt>=1.0.0 in /usr/local/lib/python3.12/dist-packages (from langsmith>=0.1.17->langchain<2.0.0,>=0.3.20->langchain-tavily) (1.0.0)\n",
            "Requirement already satisfied: zstandard>=0.23.0 in /usr/local/lib/python3.12/dist-packages (from langsmith>=0.1.17->langchain<2.0.0,>=0.3.20->langchain-tavily) (0.25.0)\n",
            "Requirement already satisfied: annotated-types>=0.6.0 in /usr/local/lib/python3.12/dist-packages (from pydantic<3.0.0,>=2.7.4->langchain<2.0.0,>=0.3.20->langchain-tavily) (0.7.0)\n",
            "Requirement already satisfied: pydantic-core==2.33.2 in /usr/local/lib/python3.12/dist-packages (from pydantic<3.0.0,>=2.7.4->langchain<2.0.0,>=0.3.20->langchain-tavily) (2.33.2)\n",
            "Requirement already satisfied: typing-inspection>=0.4.0 in /usr/local/lib/python3.12/dist-packages (from pydantic<3.0.0,>=2.7.4->langchain<2.0.0,>=0.3.20->langchain-tavily) (0.4.2)\n",
            "Requirement already satisfied: greenlet>=1 in /usr/local/lib/python3.12/dist-packages (from SQLAlchemy<3,>=1.4->langchain<2.0.0,>=0.3.20->langchain-tavily) (3.2.4)\n",
            "Requirement already satisfied: anyio in /usr/local/lib/python3.12/dist-packages (from httpx<1,>=0.23.0->langsmith>=0.1.17->langchain<2.0.0,>=0.3.20->langchain-tavily) (4.11.0)\n",
            "Requirement already satisfied: httpcore==1.* in /usr/local/lib/python3.12/dist-packages (from httpx<1,>=0.23.0->langsmith>=0.1.17->langchain<2.0.0,>=0.3.20->langchain-tavily) (1.0.9)\n",
            "Requirement already satisfied: h11>=0.16 in /usr/local/lib/python3.12/dist-packages (from httpcore==1.*->httpx<1,>=0.23.0->langsmith>=0.1.17->langchain<2.0.0,>=0.3.20->langchain-tavily) (0.16.0)\n",
            "Requirement already satisfied: sniffio>=1.1 in /usr/local/lib/python3.12/dist-packages (from anyio->httpx<1,>=0.23.0->langsmith>=0.1.17->langchain<2.0.0,>=0.3.20->langchain-tavily) (1.3.1)\n",
            "Downloading langchain_tavily-0.2.12-py3-none-any.whl (25 kB)\n",
            "Installing collected packages: langchain-tavily\n",
            "Successfully installed langchain-tavily-0.2.12\n"
          ]
        }
      ],
      "source": [
        "!pip install langchain\n",
        "!pip install langchain_openai\n",
        "!pip install langchain_community\n",
        "!pip install langgraph\n",
        "!pip install langchain-experimental\n",
        "!pip install langchain-tavily\n"
      ]
    },
    {
      "cell_type": "code",
      "source": [
        "from getpass import getpass\n",
        "OPENAI_API_KEY=getpass(\"enter openai key:-\")\n",
        "TAVILY_API_KEY=getpass(\"enter TAVILY_API_KEY:-\")\n"
      ],
      "metadata": {
        "colab": {
          "base_uri": "https://localhost:8080/"
        },
        "id": "f3EsU6YeQ0Xr",
        "outputId": "b0f022bb-515e-4f02-fbff-2328e9fe0a2a"
      },
      "execution_count": 2,
      "outputs": [
        {
          "name": "stdout",
          "output_type": "stream",
          "text": [
            "enter openai key:-··········\n",
            "enter TAVILY_API_KEY:-··········\n"
          ]
        }
      ]
    },
    {
      "cell_type": "code",
      "source": [
        "import os\n",
        "os.environ[\"OPENAI_API_KEY\"]=OPENAI_API_KEY\n",
        "os.environ[\"TAVILY_API_KEY\"]=TAVILY_API_KEY"
      ],
      "metadata": {
        "id": "8XgT314eRtCp"
      },
      "execution_count": 3,
      "outputs": []
    },
    {
      "cell_type": "code",
      "source": [
        "from langchain_openai import ChatOpenAI\n",
        "llm=ChatOpenAI(model=\"gpt-4o\",temperature=0)"
      ],
      "metadata": {
        "id": "TJKQsd5wSCUl"
      },
      "execution_count": 4,
      "outputs": []
    },
    {
      "cell_type": "markdown",
      "source": [
        "__Tools Creation__"
      ],
      "metadata": {
        "id": "TmyNZy4aTowD"
      }
    },
    {
      "cell_type": "code",
      "source": [
        "from langchain_tavily import TavilySearch\n",
        "tv_search=TavilySearch(max_results=4,search_depth='advanced',\n",
        "                                max_tokens=10000) #becuse it's already made as a tool bcoz is runnable , we can directly use it in our agent.\n",
        "web_search_tool=tv_search.name"
      ],
      "metadata": {
        "id": "yfWP68pgSY6_"
      },
      "execution_count": 5,
      "outputs": []
    },
    {
      "cell_type": "code",
      "source": [
        "from langchain.tools import tool\n",
        "from langchain_experimental.utilities import PythonREPL\n",
        "from langchain_core.messages import ToolMessage\n",
        "from typing import Annotated\n",
        "python_compiler=PythonREPL()\n",
        "\n",
        "\n",
        "@tool\n",
        "def python_code_execution(code:Annotated[str,\"it's a python code which will be execute by this tool.\"]):\n",
        "  \"A tool for excecute the python code and generate the output from it.\"\n",
        "  try:\n",
        "    result=python_compiler.run(code)\n",
        "  except BaseException as e:\n",
        "    return f\"failed to execute. Error: {repr(e)}\"\n",
        "  return f\"output of the code :- {result}, if you completed all task then responed with Final Answer.\"\n",
        "\n",
        "\n",
        "\n"
      ],
      "metadata": {
        "id": "5EukEt4WSuSb"
      },
      "execution_count": 6,
      "outputs": []
    },
    {
      "cell_type": "code",
      "source": [
        "python_code_execution(\"x=1/0\")"
      ],
      "metadata": {
        "colab": {
          "base_uri": "https://localhost:8080/",
          "height": 87
        },
        "id": "VuPMGcjAlCS2",
        "outputId": "a6cec965-cffe-4b9f-cd73-2c680d5af9e0"
      },
      "execution_count": null,
      "outputs": [
        {
          "output_type": "stream",
          "name": "stderr",
          "text": [
            "/tmp/ipython-input-3979079114.py:1: LangChainDeprecationWarning: The method `BaseTool.__call__` was deprecated in langchain-core 0.1.47 and will be removed in 1.0. Use :meth:`~invoke` instead.\n",
            "  python_code_execution(\"x=1/0\")\n",
            "WARNING:langchain_experimental.utilities.python:Python REPL can execute arbitrary code. Use with caution.\n"
          ]
        },
        {
          "output_type": "execute_result",
          "data": {
            "text/plain": [
              "\"output of the code :- ZeroDivisionError('division by zero'), if you completed all task then responed with Final Answer.\""
            ],
            "application/vnd.google.colaboratory.intrinsic+json": {
              "type": "string"
            }
          },
          "metadata": {},
          "execution_count": 7
        }
      ]
    },
    {
      "cell_type": "markdown",
      "source": [
        "__2 sample agent(specific){llm+tools} creation__\n",
        "\n",
        "__Note:-__\n",
        "1) there is most important role of prompt. in prompt we need to tell our agent that another agent also working so u can generate response as much u can , for remaining work can be done by other agent .\n",
        "\n",
        "2) telling the condition by which this agents calling can stop and final delivery happens to user.\n",
        "\n",
        "3) mention any limitation of agent and also mention the responsibility."
      ],
      "metadata": {
        "id": "TOyO24mF9A_o"
      }
    },
    {
      "cell_type": "code",
      "source": [
        "#Web search agent\n",
        "from langchain_core.prompts import ChatPromptTemplate , MessagesPlaceholder\n",
        "prompt_temp=ChatPromptTemplate.from_messages([\n",
        "    ('system',f\"\"\"You are a helpful AI assistant, collaborating with other assistants.\n",
        "                          Use the provided tools to progress towards answering the question.\n",
        "                          If you are unable to fully answer, that's OK,\n",
        "                          another assistant with different tools will help where you left off.\n",
        "                          Execute what you can to make progress.\n",
        "                          If you or any of the other assistants have the final answer or deliverable,\n",
        "                          prefix your response with FINAL ANSWER so the team knows to stop.\n",
        "\n",
        "                          You have access to the following tools:\n",
        "                          {web_search_tool}\n",
        "\n",
        "                          You should provide accurate data for use\n",
        "                          and source code shouldn't be the final answer  \"\"\"),\n",
        "  MessagesPlaceholder(variable_name='messages')\n",
        "])\n",
        "#prompt = situation + limitation + responsibility + tools description + capability"
      ],
      "metadata": {
        "id": "36uysP-WlNGV"
      },
      "execution_count": 7,
      "outputs": []
    },
    {
      "cell_type": "code",
      "source": [
        "web_search_chain=prompt_temp | llm.bind_tools([tv_search])"
      ],
      "metadata": {
        "id": "mKnd3tXs_uAu"
      },
      "execution_count": 8,
      "outputs": []
    },
    {
      "cell_type": "code",
      "source": [
        "web_search_chain.invoke({'messages':[('user',\"give me demo python code. and excute it like data visulization.\")]})"
      ],
      "metadata": {
        "colab": {
          "base_uri": "https://localhost:8080/"
        },
        "id": "GKUqNjduBYkb",
        "outputId": "8c567af1-7791-45cb-e32b-1c439c110ce3"
      },
      "execution_count": null,
      "outputs": [
        {
          "output_type": "execute_result",
          "data": {
            "text/plain": [
              "AIMessage(content='I can provide you with a demo Python code for data visualization using libraries like Matplotlib and Seaborn. However, I can\\'t execute the code directly here. You can run the code in your local environment or an online Python compiler that supports these libraries.\\n\\nHere\\'s a simple example of data visualization using Matplotlib and Seaborn:\\n\\n```python\\nimport matplotlib.pyplot as plt\\nimport seaborn as sns\\nimport pandas as pd\\n\\n# Sample data\\ndata = {\\n    \\'Category\\': [\\'A\\', \\'B\\', \\'C\\', \\'D\\'],\\n    \\'Values\\': [23, 45, 56, 78]\\n}\\n\\n# Create a DataFrame\\ndf = pd.DataFrame(data)\\n\\n# Set the style of seaborn\\nsns.set_style(\"whitegrid\")\\n\\n# Create a bar plot\\nplt.figure(figsize=(8, 6))\\nsns.barplot(x=\\'Category\\', y=\\'Values\\', data=df, palette=\\'viridis\\')\\n\\n# Add title and labels\\nplt.title(\\'Sample Bar Plot\\')\\nplt.xlabel(\\'Category\\')\\nplt.ylabel(\\'Values\\')\\n\\n# Show the plot\\nplt.show()\\n```\\n\\n### Instructions to Run the Code:\\n1. **Install the Required Libraries**: Make sure you have Matplotlib, Seaborn, and Pandas installed. You can install them using pip:\\n   ```bash\\n   pip install matplotlib seaborn pandas\\n   ```\\n\\n2. **Run the Code**: Copy the code into a Python file (e.g., `visualization_demo.py`) and execute it using a Python interpreter:\\n   ```bash\\n   python visualization_demo.py\\n   ```\\n\\nThis code will generate a simple bar plot visualizing the sample data provided. You can modify the data and customize the plot as needed.', additional_kwargs={'refusal': None}, response_metadata={'token_usage': {'completion_tokens': 349, 'prompt_tokens': 1407, 'total_tokens': 1756, 'completion_tokens_details': {'accepted_prediction_tokens': 0, 'audio_tokens': 0, 'reasoning_tokens': 0, 'rejected_prediction_tokens': 0}, 'prompt_tokens_details': {'audio_tokens': 0, 'cached_tokens': 0}}, 'model_name': 'gpt-4o-2024-08-06', 'system_fingerprint': 'fp_cbf1785567', 'id': 'chatcmpl-CNzTXPZpwE7iFXxAkHR66208VXHBI', 'service_tier': 'default', 'finish_reason': 'stop', 'logprobs': None}, id='run--28c2ba64-d847-4205-b34a-d98288fa58d0-0', usage_metadata={'input_tokens': 1407, 'output_tokens': 349, 'total_tokens': 1756, 'input_token_details': {'audio': 0, 'cache_read': 0}, 'output_token_details': {'audio': 0, 'reasoning': 0}})"
            ]
          },
          "metadata": {},
          "execution_count": 28
        }
      ]
    },
    {
      "cell_type": "code",
      "source": [
        "#chat creation agent.\n",
        "prompt_temp2=ChatPromptTemplate.from_messages([\n",
        "    ('system',f\"\"\"\n",
        "   You are a helpful AI assistant, collaborating with other assistants.\n",
        "                          Use the provided tools to progress towards answering the question.\n",
        "                          If you are unable to fully answer, that's OK,\n",
        "                          another assistant with different tools will help where you left off.\n",
        "                          Execute what you can to make progress.\n",
        "                          If you or any of the other assistants have the final answer or deliverable,\n",
        "                          prefix your response with FINAL ANSWER so the team knows to stop.\n",
        "\n",
        "                          You have access to the following tools:\n",
        "                          {python_code_execution.name}\n",
        "\n",
        "                          Run the python code to display the chart    \"\"\"),\n",
        "    MessagesPlaceholder(variable_name='messages')\n",
        "])\n",
        "code_expert_chain=prompt_temp2 | llm.bind_tools([python_code_execution])"
      ],
      "metadata": {
        "id": "ghsYld-bBp3g"
      },
      "execution_count": 9,
      "outputs": []
    },
    {
      "cell_type": "code",
      "source": [
        "code_expert_chain.invoke({'messages':[('user',\"\"\"I can provide you with a demo Python code for data visualization using libraries like Matplotlib and Seaborn. However, I can\\'t execute the code directly here. You can run the code in your local environment or an online Python compiler that supports these libraries.\\n\\nHere\\'s a simple example of data visualization using Matplotlib and Seaborn:\\n\\n```python\\nimport matplotlib.pyplot as plt\\nimport seaborn as sns\\nimport pandas as pd\\n\\n# Sample data\\ndata = {\\n    \\'Category\\': [\\'A\\', \\'B\\', \\'C\\', \\'D\\'],\\n    \\'Values\\': [23, 45, 56, 78]\\n}\\n\\n# Create a DataFrame\\ndf = pd.DataFrame(data)\\n\\n# Set the style of seaborn\\nsns.set_style(\"whitegrid\")\\n\\n# Create a bar plot\\nplt.figure(figsize=(8, 6))\\nsns.barplot(x=\\'Category\\', y=\\'Values\\', data=df, palette=\\'viridis\\')\\n\\n# Add title and labels\\nplt.title(\\'Sample Bar Plot\\')\\nplt.xlabel(\\'Category\\')\\nplt.ylabel(\\'Values\\')\\n\\n# Show the plot\\nplt.show()\\n```\\n\\n### Instructions to Run the Code:\\n1. **Install the Required Libraries**: Make sure you have Matplotlib, Seaborn, and Pandas installed. You can install them using pip:\\n   ```bash\\n   pip install matplotlib seaborn pandas\\n   ```\\n\\n2. **Run the Code**: Copy the code into a Python file (e.g., `visualization_demo.py`) and execute it```\\n\\nThis code will generate a simple bar plot visualizing the sample data provided. You can modify the data and customize the plot as needed.\"\"\")]})"
      ],
      "metadata": {
        "colab": {
          "base_uri": "https://localhost:8080/"
        },
        "id": "wRZVC7kbTn7s",
        "outputId": "7664f033-a37a-454c-f44b-2eb276182b1d"
      },
      "execution_count": null,
      "outputs": [
        {
          "output_type": "execute_result",
          "data": {
            "text/plain": [
              "AIMessage(content='', additional_kwargs={'tool_calls': [{'id': 'call_AZuMy5APDDxxKzSMeg4nkRP3', 'function': {'arguments': '{\"code\":\"import matplotlib.pyplot as plt\\\\nimport seaborn as sns\\\\nimport pandas as pd\\\\n\\\\n# Sample data\\\\ndata = {\\\\n    \\'Category\\': [\\'A\\', \\'B\\', \\'C\\', \\'D\\'],\\\\n    \\'Values\\': [23, 45, 56, 78]\\\\n}\\\\n\\\\n# Create a DataFrame\\\\ndf = pd.DataFrame(data)\\\\n\\\\n# Set the style of seaborn\\\\nsns.set_style(\\\\\"whitegrid\\\\\")\\\\n\\\\n# Create a bar plot\\\\nplt.figure(figsize=(8, 6))\\\\nsns.barplot(x=\\'Category\\', y=\\'Values\\', data=df, palette=\\'viridis\\')\\\\n\\\\n# Add title and labels\\\\nplt.title(\\'Sample Bar Plot\\')\\\\nplt.xlabel(\\'Category\\')\\\\nplt.ylabel(\\'Values\\')\\\\n\\\\n# Show the plot\\\\nplt.show()\"}', 'name': 'python_code_execution'}, 'type': 'function'}], 'refusal': None}, response_metadata={'token_usage': {'completion_tokens': 189, 'prompt_tokens': 514, 'total_tokens': 703, 'completion_tokens_details': {'accepted_prediction_tokens': 0, 'audio_tokens': 0, 'reasoning_tokens': 0, 'rejected_prediction_tokens': 0}, 'prompt_tokens_details': {'audio_tokens': 0, 'cached_tokens': 0}}, 'model_name': 'gpt-4o-2024-08-06', 'system_fingerprint': 'fp_cbf1785567', 'id': 'chatcmpl-CNzhejfyr2P8vxKmFY7Pg06t8wH5x', 'service_tier': 'default', 'finish_reason': 'tool_calls', 'logprobs': None}, id='run--e99429f8-f2a4-4729-8e52-b4c0d75500d5-0', tool_calls=[{'name': 'python_code_execution', 'args': {'code': 'import matplotlib.pyplot as plt\\nimport seaborn as sns\\nimport pandas as pd\\n\\n# Sample data\\ndata = {\\n    \\'Category\\': [\\'A\\', \\'B\\', \\'C\\', \\'D\\'],\\n    \\'Values\\': [23, 45, 56, 78]\\n}\\n\\n# Create a DataFrame\\ndf = pd.DataFrame(data)\\n\\n# Set the style of seaborn\\nsns.set_style(\"whitegrid\")\\n\\n# Create a bar plot\\nplt.figure(figsize=(8, 6))\\nsns.barplot(x=\\'Category\\', y=\\'Values\\', data=df, palette=\\'viridis\\')\\n\\n# Add title and labels\\nplt.title(\\'Sample Bar Plot\\')\\nplt.xlabel(\\'Category\\')\\nplt.ylabel(\\'Values\\')\\n\\n# Show the plot\\nplt.show()'}, 'id': 'call_AZuMy5APDDxxKzSMeg4nkRP3', 'type': 'tool_call'}], usage_metadata={'input_tokens': 514, 'output_tokens': 189, 'total_tokens': 703, 'input_token_details': {'audio': 0, 'cache_read': 0}, 'output_token_details': {'audio': 0, 'reasoning': 0}})"
            ]
          },
          "metadata": {},
          "execution_count": 35
        }
      ]
    },
    {
      "cell_type": "markdown",
      "source": [
        "__Creation of agent__"
      ],
      "metadata": {
        "id": "pE4dJXB_d55o"
      }
    },
    {
      "cell_type": "code",
      "source": [
        "from langchain_core.messages import ToolMessage,AIMessage\n",
        "def research_agent(state):\n",
        "  result=web_search_chain.invoke(state['messages'])\n",
        "  if isinstance(result,ToolMessage):\n",
        "    pass\n",
        "  else:\n",
        "    result=AIMessage(**result.model_dump(exclude={'type','name'}),name='research_agent') #serielize the model into dictionary\n",
        "\n",
        "  return {\n",
        "      'messages':[result],\n",
        "      'sender':'research_agent'\n",
        "  }\n",
        "\n",
        "def code_execution_agent(state):\n",
        "  result=code_expert_chain.invoke(state['messages'])\n",
        "  if isinstance(result,ToolMessage):\n",
        "    pass\n",
        "  else:\n",
        "    result=AIMessage(**result.model_dump(exclude={'type','name'}),name='code_execution_agent')\n",
        "  return {\n",
        "      'messages':[result],\n",
        "      'sender':'code_execution_agent'\n",
        "  }\n"
      ],
      "metadata": {
        "id": "7woHuB_Qd-Nq"
      },
      "execution_count": 15,
      "outputs": []
    },
    {
      "cell_type": "code",
      "source": [
        "code_execution_agent({'messages':[('user',\"\"\"I can provide you with a demo Python code for data visualization using libraries like Matplotlib and Seaborn. However, I can\\'t execute the code directly here. You can run the code in your local environment or an online Python compiler that supports these libraries.\\n\\nHere\\'s a simple example of data visualization using Matplotlib and Seaborn:\\n\\n```python\\nimport matplotlib.pyplot as plt\\nimport seaborn as sns\\nimport pandas as pd\\n\\n# Sample data\\ndata = {\\n    \\'Category\\': [\\'A\\', \\'B\\', \\'C\\', \\'D\\'],\\n    \\'Values\\': [23, 45, 56, 78]\\n}\\n\\n# Create a DataFrame\\ndf = pd.DataFrame(data)\\n\\n# Set the style of seaborn\\nsns.set_style(\"whitegrid\")\\n\\n# Create a bar plot\\nplt.figure(figsize=(8, 6))\\nsns.barplot(x=\\'Category\\', y=\\'Values\\', data=df, palette=\\'viridis\\')\\n\\n# Add title and labels\\nplt.title(\\'Sample Bar Plot\\')\\nplt.xlabel(\\'Category\\')\\nplt.ylabel(\\'Values\\')\\n\\n# Show the plot\\nplt.show()\\n```\\n\\n### Instructions to Run the Code:\\n1. **Install the Required Libraries**: Make sure you have Matplotlib, Seaborn, and Pandas installed. You can install them using pip:\\n   ```bash\\n   pip install matplotlib seaborn pandas\\n   ```\\n\\n2. **Run the Code**: Copy the code into a Python file (e.g., `visualization_demo.py`) and execute it```\\n\\nThis code will generate a simple bar plot visualizing the sample data provided. You can modify the data and customize the plot as needed.\"\"\")]})"
      ],
      "metadata": {
        "colab": {
          "base_uri": "https://localhost:8080/"
        },
        "id": "3V6qGfgmW7SF",
        "outputId": "da00097b-753f-4256-f42e-b2ae37025737"
      },
      "execution_count": null,
      "outputs": [
        {
          "output_type": "execute_result",
          "data": {
            "text/plain": [
              "AIMessage(content='', additional_kwargs={'tool_calls': [{'id': 'call_izuIM3TGgvFaX6JcgWrgbumb', 'function': {'arguments': '{\"code\":\"import matplotlib.pyplot as plt\\\\nimport seaborn as sns\\\\nimport pandas as pd\\\\n\\\\n# Sample data\\\\ndata = {\\\\n    \\'Category\\': [\\'A\\', \\'B\\', \\'C\\', \\'D\\'],\\\\n    \\'Values\\': [23, 45, 56, 78]\\\\n}\\\\n\\\\n# Create a DataFrame\\\\ndf = pd.DataFrame(data)\\\\n\\\\n# Set the style of seaborn\\\\nsns.set_style(\\\\\"whitegrid\\\\\")\\\\n\\\\n# Create a bar plot\\\\nplt.figure(figsize=(8, 6))\\\\nsns.barplot(x=\\'Category\\', y=\\'Values\\', data=df, palette=\\'viridis\\')\\\\n\\\\n# Add title and labels\\\\nplt.title(\\'Sample Bar Plot\\')\\\\nplt.xlabel(\\'Category\\')\\\\nplt.ylabel(\\'Values\\')\\\\n\\\\n# Show the plot\\\\nplt.show()\"}', 'name': 'python_code_execution'}, 'type': 'function'}], 'refusal': None}, response_metadata={'token_usage': {'completion_tokens': 189, 'prompt_tokens': 514, 'total_tokens': 703, 'completion_tokens_details': {'accepted_prediction_tokens': 0, 'audio_tokens': 0, 'reasoning_tokens': 0, 'rejected_prediction_tokens': 0}, 'prompt_tokens_details': {'audio_tokens': 0, 'cached_tokens': 0}}, 'model_name': 'gpt-4o-2024-08-06', 'system_fingerprint': 'fp_cbf1785567', 'id': 'chatcmpl-COHSJVVhn06bxlAybYwjiwswgwP0i', 'service_tier': 'default', 'finish_reason': 'tool_calls', 'logprobs': None}, name='code_execution_agent', id='run--37924e48-7c73-4bc8-aec1-cc498275901b-0', tool_calls=[{'name': 'python_code_execution', 'args': {'code': 'import matplotlib.pyplot as plt\\nimport seaborn as sns\\nimport pandas as pd\\n\\n# Sample data\\ndata = {\\n    \\'Category\\': [\\'A\\', \\'B\\', \\'C\\', \\'D\\'],\\n    \\'Values\\': [23, 45, 56, 78]\\n}\\n\\n# Create a DataFrame\\ndf = pd.DataFrame(data)\\n\\n# Set the style of seaborn\\nsns.set_style(\"whitegrid\")\\n\\n# Create a bar plot\\nplt.figure(figsize=(8, 6))\\nsns.barplot(x=\\'Category\\', y=\\'Values\\', data=df, palette=\\'viridis\\')\\n\\n# Add title and labels\\nplt.title(\\'Sample Bar Plot\\')\\nplt.xlabel(\\'Category\\')\\nplt.ylabel(\\'Values\\')\\n\\n# Show the plot\\nplt.show()'}, 'id': 'call_izuIM3TGgvFaX6JcgWrgbumb', 'type': 'tool_call'}], usage_metadata={'input_tokens': 514, 'output_tokens': 189, 'total_tokens': 703, 'input_token_details': {'audio': 0, 'cache_read': 0}, 'output_token_details': {'audio': 0, 'reasoning': 0}})"
            ]
          },
          "metadata": {},
          "execution_count": 14
        }
      ]
    },
    {
      "cell_type": "markdown",
      "source": [
        "__Routing edge function__\n",
        "\n",
        "this function is responsible to correctly play the role of conditional edge logic where it will decide which node will be next after the execution of specific agent node."
      ],
      "metadata": {
        "id": "Zgs3smIGdzRy"
      }
    },
    {
      "cell_type": "code",
      "source": [
        "from typing import Literal\n",
        "def conditional_logic(state)->Literal['TOOL_CALL','NEXT_AGENT','END']:\n",
        "  current_state=state[\"messages\"][-1]\n",
        "  if current_state.tool_calls : #because currentstate willbe object so we used `.`\n",
        "    return 'TOOL_CALL'\n",
        "  if 'FINAL ANSWER' in current_state.content: #we are checking substring so using `in`.\n",
        "    return 'END'\n",
        "  else:\n",
        "    return 'NEXT_AGENT'\n",
        "\n"
      ],
      "metadata": {
        "id": "3ikGZd85T9iW"
      },
      "execution_count": 29,
      "outputs": []
    },
    {
      "cell_type": "markdown",
      "source": [
        "__Let's create the Graph__"
      ],
      "metadata": {
        "id": "kkqjh8ht-H5c"
      }
    },
    {
      "cell_type": "code",
      "source": [
        "import operator\n",
        "from langgraph.graph import StateGraph,END\n",
        "from langgraph.prebuilt import ToolNode\n",
        "from typing import TypedDict,Sequence,Annotated\n",
        "from langchain_core.messages import BaseMessage\n",
        "\n",
        "class GraphState(TypedDict):\n",
        "  messages:Annotated[Sequence[BaseMessage],operator.add]\n",
        "  sender:str\n",
        "\n",
        "blue_print=StateGraph(GraphState)\n"
      ],
      "metadata": {
        "id": "tUYvWK__9mxJ"
      },
      "execution_count": 30,
      "outputs": []
    },
    {
      "cell_type": "code",
      "source": [
        "tools_node=ToolNode([tv_search,python_code_execution])"
      ],
      "metadata": {
        "id": "mdfGDSMPAH3r"
      },
      "execution_count": 31,
      "outputs": []
    },
    {
      "cell_type": "code",
      "source": [
        "blue_print.add_node(research_agent)\n",
        "blue_print.add_node(code_execution_agent)\n",
        "blue_print.add_node(\"tools_node\",tools_node)"
      ],
      "metadata": {
        "colab": {
          "base_uri": "https://localhost:8080/"
        },
        "id": "W__TFXIjEHSh",
        "outputId": "abecd381-22ea-4f0a-b6b4-e9e26e1995d1"
      },
      "execution_count": 32,
      "outputs": [
        {
          "output_type": "execute_result",
          "data": {
            "text/plain": [
              "<langgraph.graph.state.StateGraph at 0x785eaf9230e0>"
            ]
          },
          "metadata": {},
          "execution_count": 32
        }
      ]
    },
    {
      "cell_type": "code",
      "source": [
        "blue_print.set_entry_point(\"research_agent\")"
      ],
      "metadata": {
        "colab": {
          "base_uri": "https://localhost:8080/"
        },
        "id": "fkEqeXWhEoWZ",
        "outputId": "71ef3e82-547d-42ec-fddf-cbf9907b1f1c"
      },
      "execution_count": 33,
      "outputs": [
        {
          "output_type": "execute_result",
          "data": {
            "text/plain": [
              "<langgraph.graph.state.StateGraph at 0x785eaf9230e0>"
            ]
          },
          "metadata": {},
          "execution_count": 33
        }
      ]
    },
    {
      "cell_type": "code",
      "source": [
        "blue_print.add_conditional_edges(\"research_agent\",conditional_logic,{'TOOL_CALL':\"tools_node\",'NEXT_AGENT':\"code_execution_agent\",'END':END})\n",
        "blue_print.add_conditional_edges(\"code_execution_agent\",conditional_logic,{'TOOL_CALL':\"tools_node\",'NEXT_AGENT':\"research_agent\",'END':END})\n",
        "blue_print.add_conditional_edges(\"tools_node\",lambda x:x['sender'],{'code_execution_agent':\"code_execution_agent\",'research_agent':'research_agent'})"
      ],
      "metadata": {
        "colab": {
          "base_uri": "https://localhost:8080/"
        },
        "id": "tP14YeicEy6h",
        "outputId": "f971b2f7-e430-4307-878b-516da3f44e37"
      },
      "execution_count": 34,
      "outputs": [
        {
          "output_type": "execute_result",
          "data": {
            "text/plain": [
              "<langgraph.graph.state.StateGraph at 0x785eaf9230e0>"
            ]
          },
          "metadata": {},
          "execution_count": 34
        }
      ]
    },
    {
      "cell_type": "code",
      "source": [
        "chatbot=blue_print.compile()"
      ],
      "metadata": {
        "id": "SzhjCmzHGRBs"
      },
      "execution_count": 35,
      "outputs": []
    },
    {
      "cell_type": "code",
      "source": [
        "from IPython.display import Image,display\n",
        "\n",
        "display(Image(chatbot.get_graph().draw_mermaid_png()))"
      ],
      "metadata": {
        "colab": {
          "base_uri": "https://localhost:8080/",
          "height": 413
        },
        "id": "W8qjmnRoGZPU",
        "outputId": "a5d45757-b93a-4d1f-c40c-87a02664754c"
      },
      "execution_count": 27,
      "outputs": [
        {
          "output_type": "display_data",
          "data": {
            "image/png": "[encoded data removed]",
            "text/plain": [
              "<IPython.core.display.Image object>"
            ]
          },
          "metadata": {}
        }
      ]
    },
    {
      "cell_type": "code",
      "source": [
        "prompt = \"\"\"Fetch the data of the top 3 countries with the highest GDP in the world.\n",
        "            Then use this data and draw a bar chart.\n",
        "         \"\"\"\n",
        "\n",
        "response = chatbot.invoke({\"messages\": [('human', prompt)]},\n",
        "                        # Maximum number of steps to take in the graph\n",
        "                        {\"recursion_limit\": 50},)"
      ],
      "metadata": {
        "colab": {
          "base_uri": "https://localhost:8080/",
          "height": 581
        },
        "id": "23_CYod7HHPf",
        "outputId": "79e248b5-9134-42ce-ff6d-333e29d95cdf"
      },
      "execution_count": 37,
      "outputs": [
        {
          "output_type": "stream",
          "name": "stderr",
          "text": [
            "WARNING:langchain_experimental.utilities.python:Python REPL can execute arbitrary code. Use with caution.\n"
          ]
        },
        {
          "output_type": "display_data",
          "data": {
            "text/plain": [
              "<Figure size 1000x600 with 1 Axes>"
            ],
            "image/png": "[encoded data removed]"
          },
          "metadata": {}
        }
      ]
    },
    {
      "cell_type": "code",
      "source": [
        "response"
      ],
      "metadata": {
        "colab": {
          "base_uri": "https://localhost:8080/"
        },
        "id": "lHUjtfWdHnOt",
        "outputId": "d341bbaf-06e9-4ca9-a059-05fe00dbb5e0"
      },
      "execution_count": 38,
      "outputs": [
        {
          "output_type": "execute_result",
          "data": {
            "text/plain": [
              "{'messages': [('human',\n",
              "   'Fetch the data of the top 3 countries with the highest GDP in the world.\\n            Then use this data and draw a bar chart.\\n         '),\n",
              "  AIMessage(content='', additional_kwargs={'tool_calls': [{'id': 'call_Ua4rBMUUPbxdoFITlARpQwV3', 'function': {'arguments': '{\"query\":\"top 3 countries by GDP 2023\",\"search_depth\":\"basic\"}', 'name': 'tavily_search'}, 'type': 'function'}], 'refusal': None}, response_metadata={'token_usage': {'completion_tokens': 29, 'prompt_tokens': 1420, 'total_tokens': 1449, 'completion_tokens_details': {'accepted_prediction_tokens': 0, 'audio_tokens': 0, 'reasoning_tokens': 0, 'rejected_prediction_tokens': 0}, 'prompt_tokens_details': {'audio_tokens': 0, 'cached_tokens': 0}}, 'model_name': 'gpt-4o-2024-08-06', 'system_fingerprint': 'fp_cbf1785567', 'id': 'chatcmpl-COPHDyZSHJwS2VbGxMbQXhGsRhQGw', 'service_tier': 'default', 'finish_reason': 'tool_calls', 'logprobs': None}, name='research_agent', id='run--755e0467-6a6c-4c3f-8492-29418d71074e-0', tool_calls=[{'name': 'tavily_search', 'args': {'query': 'top 3 countries by GDP 2023', 'search_depth': 'basic'}, 'id': 'call_Ua4rBMUUPbxdoFITlARpQwV3', 'type': 'tool_call'}], usage_metadata={'input_tokens': 1420, 'output_tokens': 29, 'total_tokens': 1449, 'input_token_details': {'audio': 0, 'cache_read': 0}, 'output_token_details': {'audio': 0, 'reasoning': 0}}),\n",
              "  ToolMessage(content='{\"query\": \"top 3 countries by GDP 2023\", \"follow_up_questions\": null, \"answer\": null, \"images\": [], \"results\": [{\"url\": \"https://en.wikipedia.org/wiki/List_of_countries_by_GDP_(nominal)\", \"title\": \"List of countries by GDP (nominal) - Wikipedia\", \"content\": \"| ![Image 28](https://upload.wikimedia.org/wikipedia/commons/thumb/7/72/Flag_of_the_Republic_of_China.svg/40px-Flag_of_the_Republic_of_China.svg.png)[Taiwan](https://en.wikipedia.org/wiki/Economy_of_Taiwan \\\\\"Economy of Taiwan\\\\\")[[n 3]](https://en.wikipedia.org/wiki/List_of_countries_by_GDP_(nominal)#cite_note-Taiwan_China-11) | 804,889 | — | — | | ![Image 45](https://upload.wikimedia.org/wikipedia/commons/thumb/5/5b/Flag_of_Hong_Kong.svg/40px-Flag_of_Hong_Kong.svg.png)[Hong Kong](https://en.wikipedia.org/wiki/Economy_of_Hong_Kong \\\\\"Economy of Hong Kong\\\\\")[[n 4]](https://en.wikipedia.org/wiki/List_of_countries_by_GDP_(nominal)#cite_note-HongKong_China-12) | 423,999 | 407,107 | 380,812 | | ![Image 63](https://upload.wikimedia.org/wikipedia/commons/thumb/4/49/Flag_of_Ukraine.svg/40px-Flag_of_Ukraine.svg.png)[Ukraine](https://en.wikipedia.org/wiki/Economy_of_Ukraine \\\\\"Economy of Ukraine\\\\\")[[n 5]](https://en.wikipedia.org/wiki/List_of_countries_by_GDP_(nominal)#cite_note-Ukraine-13) | 205,742 | 190,741 | 178,757 | | ![Image 90](https://upload.wikimedia.org/wikipedia/commons/thumb/3/38/Flag_of_Tanzania.svg/40px-Flag_of_Tanzania.svg.png)[Tanzania](https://en.wikipedia.org/wiki/Economy_of_Tanzania \\\\\"Economy of Tanzania\\\\\")[[n 6]](https://en.wikipedia.org/wiki/List_of_countries_by_GDP_(nominal)#cite_note-Tanzania-14) | 85,977 | 78,780 | 78,353 | | ![Image 102](https://upload.wikimedia.org/wikipedia/commons/thumb/6/63/Flag_of_Macau.svg/40px-Flag_of_Macau.svg.png)[Macau](https://en.wikipedia.org/wiki/Economy_of_Macau \\\\\"Economy of Macau\\\\\")[[n 7]](https://en.wikipedia.org/wiki/List_of_countries_by_GDP_(nominal)#cite_note-Macau_China-15) | 53,354 | 50,183 | 45,803 | | ![Image 110](https://upload.wikimedia.org/wikipedia/commons/thumb/d/d4/Flag_of_Cyprus.svg/40px-Flag_of_Cyprus.svg.png)[Cyprus](https://en.wikipedia.org/wiki/Economy_of_Cyprus \\\\\"Economy of Cyprus\\\\\")[[n 8]](https://en.wikipedia.org/wiki/List_of_countries_by_GDP_(nominal)#cite_note-Cyprus-16) | 38,736 | 36,333 | 33,887 | | ![Image 114](https://upload.wikimedia.org/wikipedia/commons/thumb/0/0f/Flag_of_Georgia.svg/40px-Flag_of_Georgia.svg.png)[Georgia](https://en.wikipedia.org/wiki/Economy_of_Georgia_(country) \\\\\"Economy of Georgia (country)\\\\\")[[n 9]](https://en.wikipedia.org/wiki/List_of_countries_by_GDP_(nominal)#cite_note-Georgia-17) | 35,353 | 33,776 | 30,536 | | ![Image 140](https://upload.wikimedia.org/wikipedia/commons/thumb/2/27/Flag_of_Moldova.svg/40px-Flag_of_Moldova.svg.png)[Moldova](https://en.wikipedia.org/wiki/Economy_of_Moldova \\\\\"Economy of Moldova\\\\\")[[n 10]](https://en.wikipedia.org/wiki/List_of_countries_by_GDP_(nominal)#cite_note-Moldova-18) | 19,462 | 18,200 | 16,542 |\", \"score\": 0.98527, \"raw_content\": null}, {\"url\": \"https://www.worldometers.info/gdp/gdp-by-country/\", \"title\": \"GDP by Country - Worldometer\", \"content\": \"| 51 | [New Zealand](https://www.worldometers.info/gdp/new-zealand-gdp/) | $252,176,000,000 | 252.176 billion | 0.73% | 5,172,836 | $48,750 | 0.24% | | 64 | [Sudan](https://www.worldometers.info/gdp/sudan-gdp/) | $109,266,000,000 | 109.266 billion | −20.11% | 50,042,791 | $2,183 | 0.10% | | 155 | [Aruba](https://www.worldometers.info/gdp/aruba-gdp/) | $3,648,573,136 | 3.649 billion | 4.26% | 107,939 | $33,802 | 0.0034% | | 168 | [Solomon Islands](https://www.worldometers.info/gdp/solomon-islands-gdp/) | $1,633,319,401 | 1.633 billion | 3.08% | 800,005 | $2,042 | 0.0015% | | 172 | [St. Vincent & Grenadines](https://www.worldometers.info/gdp/saint-vincent-and-the-grenadines-gdp/) | $1,065,962,963 | 1.066 billion | 6.02% | 101,323 | $10,520 | 0.0010% | | 174 | [Samoa](https://www.worldometers.info/gdp/samoa-gdp/) | $938,189,444 | 938.189 million | 8.58% | 216,663 | $4,330 | 0.00088% |\", \"score\": 0.98167, \"raw_content\": null}, {\"url\": \"https://www.investopedia.com/insights/worlds-top-economies/\", \"title\": \"The Top 25 Economies in the World - Investopedia\", \"content\": \"*   [FAQs](https://www.investopedia.com/insights/worlds-top-economies/#toc-what-country-has-the-smallest-gdp)  Known for its strategy of export-led growth and the dominance of its [chaebols](https://www.investopedia.com/terms/c/chaebol-structure.asp)—a term for large business conglomerates—South Korea in recent decades has built a network of free trade agreements covering 59 countries that account for an estimated 88% of the world’s GDP (as of latest data)56 57 58 59 It is a major producer and exporter of electronics, telecommunications equipment, and motor vehicles.60 The Saudi economy is heavily based on oil and is the world’s largest oil exporter.79 80 The Saudi government owns and operates much of the country’s major industry through its oil company, [Aramco](https://www.investopedia.com/what-is-saudi-aramco-4682590); however, with global environmental concerns driving increasing interest in developing non-fossil fuel energy sources, the Saudis are looking to diversify their economy by encouraging more private investment in healthcare and other service industries.81 82 83 [Newsletter Sign Up](https://www.investopedia.com/insights/worlds-top-economies/#)\", \"score\": 0.98086, \"raw_content\": null}, {\"url\": \"https://worldpopulationreview.com/countries/by-gdp\", \"title\": \"Total GDP: $11.65 Tn - World Population Review\", \"content\": \"$853.71 Bn $702.24 Bn $604.70 Bn The three largest economies in the world as measured by nominal GDP are the United States, China, and Japan. Japan has the fourth-largest economy in the world with a GDP of $4.11 trillion. The German economy is the third-largest in the world with a GDP of $4.59 trillion. The United Kingdom, which has a $2.83 trillion GDP, is the sixth-largest economy in the world. With a nominal GDP of $1.99 trillion, Italy is the eighth-largest economy in the world. China is the second-largest economy considering nominal GDP, at $14.14 trillion, and the largest using GDP (PPP), which is $27.31 trillion. Canada has the tenth-largest economy in the world with a nominal GDP of $1.73 trillion.\", \"score\": 0.9749, \"raw_content\": null}], \"response_time\": 2.62, \"request_id\": \"150a1a21-d1c0-41c2-b5cf-cc72cce0092f\"}', name='tavily_search', tool_call_id='call_Ua4rBMUUPbxdoFITlARpQwV3'),\n",
              "  AIMessage(content='The top 3 countries with the highest GDP in 2023 are:\\n\\n1. **United States**: The largest economy in the world.\\n2. **China**: The second-largest economy.\\n3. **Japan**: The third-largest economy.\\n\\nNow, I will use this data to draw a bar chart.', additional_kwargs={'tool_calls': [{'id': 'call_zN3EekJLMrdHjfHKfx4cun3X', 'function': {'arguments': '{\"query\": \"United States GDP 2023\", \"search_depth\": \"basic\"}', 'name': 'tavily_search'}, 'type': 'function'}, {'id': 'call_N1HYRJmPDa8sL27oXiiY6bCh', 'function': {'arguments': '{\"query\": \"China GDP 2023\", \"search_depth\": \"basic\"}', 'name': 'tavily_search'}, 'type': 'function'}, {'id': 'call_pJAqnckGMUP6jozjIJxk0ffj', 'function': {'arguments': '{\"query\": \"Japan GDP 2023\", \"search_depth\": \"basic\"}', 'name': 'tavily_search'}, 'type': 'function'}], 'refusal': None}, response_metadata={'token_usage': {'completion_tokens': 157, 'prompt_tokens': 3464, 'total_tokens': 3621, 'completion_tokens_details': {'accepted_prediction_tokens': 0, 'audio_tokens': 0, 'reasoning_tokens': 0, 'rejected_prediction_tokens': 0}, 'prompt_tokens_details': {'audio_tokens': 0, 'cached_tokens': 1408}}, 'model_name': 'gpt-4o-2024-08-06', 'system_fingerprint': 'fp_cbf1785567', 'id': 'chatcmpl-COPHIM7HwrDf6v9NadQb3TsZ3XAYw', 'service_tier': 'default', 'finish_reason': 'tool_calls', 'logprobs': None}, name='research_agent', id='run--fd7dd576-5091-4afc-93a2-8a7ea9e4b8b2-0', tool_calls=[{'name': 'tavily_search', 'args': {'query': 'United States GDP 2023', 'search_depth': 'basic'}, 'id': 'call_zN3EekJLMrdHjfHKfx4cun3X', 'type': 'tool_call'}, {'name': 'tavily_search', 'args': {'query': 'China GDP 2023', 'search_depth': 'basic'}, 'id': 'call_N1HYRJmPDa8sL27oXiiY6bCh', 'type': 'tool_call'}, {'name': 'tavily_search', 'args': {'query': 'Japan GDP 2023', 'search_depth': 'basic'}, 'id': 'call_pJAqnckGMUP6jozjIJxk0ffj', 'type': 'tool_call'}], usage_metadata={'input_tokens': 3464, 'output_tokens': 157, 'total_tokens': 3621, 'input_token_details': {'audio': 0, 'cache_read': 1408}, 'output_token_details': {'audio': 0, 'reasoning': 0}}),\n",
              "  ToolMessage(content='{\"query\": \"United States GDP 2023\", \"follow_up_questions\": null, \"answer\": null, \"images\": [], \"results\": [{\"url\": \"https://www.worldometers.info/gdp/us-gdp/\", \"title\": \"United States GDP - Worldometer\", \"content\": \"Nominal (current) Gross Domestic Product (GDP) of the United States is $27,720,700,000,000 (USD) as of 2023.\\\\n Real GDP (constant, inflation adjusted) of the United States of America reached $22,062,600,000,000 in 2023.\\\\n GDP Growth Rate in 2023 was 2.89%, representing a change of 619,200,000,000 US$ over 2022, when Real GDP was $21,443,400,000,000. [...] GDP per Capita in the United States of America (with a population of 343,477,335 people) was $64,233 in 2023, an increase of $1,448 from $62,786 in 2022; this represents a change of 2.3% in GDP per capita. [...] # United States GDP\\\\n\\\\nGDP nominal (2023)\\\\n\\\\n$27,720,700,000,000\\\\n\\\\nGDP growth rate\\\\n\\\\n(2023)\\\\n\\\\n2.89%\\\\n\\\\n(Current US Dollars). Sources include: World Bank, United Nations.\", \"score\": 0.95967525, \"raw_content\": null}, {\"url\": \"https://www.ceicdata.com/en/indicator/united-states/nominal-gdp\", \"title\": \"United States | Nominal GDP | Economic Indicators - CEIC\", \"content\": \"Key information about United States Nominal GDP\\\\n\\\\n United States Nominal GDP reached 6,621.6 USD bn in Mar 2023, compared with 6,534.5 USD bn in the previous quarter.\\\\n Nominal GDP in US is updated quarterly, available from Mar 1947 to Mar 2023, with an average number of 1,057.5 USD bn.\\\\n The data reached an all-time high of 6,621.6 USD bn in Mar 2023 and a record low of 60.8 USD bn in Mar 1947. [...] #### View United States\\'s Nominal GDP from Mar 1947 to Mar 2023 in the chart:\\\\n\\\\nGet this data\\\\n\\\\nThere is no data available for your selected dates.\\\\n\\\\nGet this data\\\\n\\\\nThere is no data available for your selected dates.\\\\n\\\\n#### What was United States\\'s Nominal GDP in Mar 2023?\\\\n\\\\nUnited States Nominal GDP reached 6,621.6 USD bn in Mar 2023, compared with 6,534.5 USD bn in the previous quarter. See the table below for more data. [...] In the latest reports, US GDP expanded 1.6 % YoY in Mar 2023.\\\\n Its GDP deflator (implicit price deflator) increased 5.4 % in Mar 2023.\\\\n US GDP Per Capita reached 59,484.0 USD in Dec 2017.\\\\n Its Gross Savings Rate was measured at 15.9 % in Mar 2023.\\\\n For Nominal GDP contributions, Investment accounted for 20.7 % in Mar 2023.\\\\n Public Consumption accounted for 14.1 % in Mar 2023.\\\\n Private Consumption accounted for 67.9 % in Mar 2023.\", \"score\": 0.933969, \"raw_content\": null}, {\"url\": \"https://www.cepal.org/en/notes/united-states-economic-outlook-2023-year-review-and-early-2024-developments-five-charts\", \"title\": \"United States economic outlook: 2023 year-in-review and early ...\", \"content\": \"1. The United States Gross Domestic Product (GDP) rose 2.5% in 2023, above the economy’s long-term growth potential and the 1.9% growth in 2022 (figure 1). Consumer spending was the main driver of the GDP increase in 2023 (figure 1).\\\\n\\\\nImage 19: 2023 year-in-review and early 2024 developments in five charts Fig1\", \"score\": 0.8967681, \"raw_content\": null}, {\"url\": \"https://www.bea.gov/news/2024/gross-domestic-product-fourth-quarter-and-year-2023-second-estimate\", \"title\": \"Gross Domestic Product, Fourth Quarter and Year 2023 (Second ...\", \"content\": \"Current-dollar GDP increased 6.3 percent, or $1.61 trillion, in 2023 to a level of $27.36 trillion, compared with an increase of 9.1 percent, or $2.15 trillion, in 2022 (tables 1 and 3). [...] GDP for 2023\\\\n\\\\nReal GDP increased 2.5 percent in 2023 (from the 2022 annual level to the 2023 annual level), compared with an increase of 1.9 percent in 2022 (table 1). The increase in real GDP in 2023 primarily reflected increases in consumer spending, nonresidential fixed investment, state and local government spending, exports, and federal government spending that were partly offset by decreases in residential fixed investment and private inventory investment. Imports decreased (table 2). [...] |  | Advance Estimate | Second Estimate |\\\\n --- \\\\n| (Percent change from 2022 annual level to 2023 annual level) |\\\\n| Real GDP | 2.5 | 2.5 |\\\\n| Current-dollar GDP | 6.3 | 6.3 |\\\\n| Gross domestic purchases price index | 3.4 | 3.4 |\\\\n| PCE price index | 3.7 | 3.7 |\\\\n| PCE price index excluding food and energy | 4.1 | 4.1 |\\\\n| (Percent change from fourth quarter 2022 to fourth quarter 2023) |\\\\n| Real GDP | 3.1 | 3.1 |\\\\n| Gross domestic purchases price index | 2.4 | 2.4 |\\\\n| PCE price index | 2.7 | 2.8 |\", \"score\": 0.8923472, \"raw_content\": null}], \"response_time\": 2.08, \"request_id\": \"dafd171a-7e4d-4e94-a28c-2c071f53a446\"}', name='tavily_search', tool_call_id='call_zN3EekJLMrdHjfHKfx4cun3X'),\n",
              "  ToolMessage(content='{\"query\": \"China GDP 2023\", \"follow_up_questions\": null, \"answer\": null, \"images\": [], \"results\": [{\"url\": \"https://www.macrotrends.net/global-metrics/countries/chn/china/economic-growth-rate\", \"title\": \"China Economic Growth | Historical Chart & Data - Macrotrends\", \"content\": \"## China Economic Growth\\\\n\\\\nPopulation Economy Trade Health Education Development Labor Force Environment Crime Immigration Other\\\\n\\\\nGDP GDP Growth Rate GDP Per Capita Debt to GDP Inflation Rate Manufacturing GNI GNI Per Capita GNP\\\\n\\\\n##### China economic growth for 2023 was 17.795 trillion US dollars, a 0.49% decline from 2022.\", \"score\": 0.92074, \"raw_content\": null}, {\"url\": \"https://www.pwccn.com/en/research-and-insights/china-economic-quarterly-q4-2023.html\", \"title\": \"China Economic Quarterly Q4 2023\", \"content\": \"1.   China’s GDP grew 5.2% in 2023, surpassing the official target.\\\\n2.   Economic recovery was uneven in the fourth quarter, with industrial output and fixed asset investment accelerating but retail sales slowing in December.\\\\n3.   High-tech sectors continued to shine, with related industrial production, fixed asset investments, bank lending, foreign direct investment and exports growing at a faster pace than the broader economy.\", \"score\": 0.9158166, \"raw_content\": null}, {\"url\": \"https://english.www.gov.cn/2024special/2023economy\", \"title\": \"ECONOMIC DEVELOPMENT IN 2023\", \"content\": \"#### National economy witnessed momentum of recovery with solid progress in high-quality development in 2023\\\\n\\\\nKEY INDICATORS\\\\n\\\\n   China\\'s GDP expands 5.2 pct in 2023, surpassing annual target\\\\n   China\\'s power use up 6.7 pct in 2023\\\\n   China\\'s express delivery sector sees double-digit growth in 2023\\\\n   China\\'s retail sales up 7.2 pct in 2023\\\\n\\\\nOPINIONS\\\\n\\\\nMultinationals upbeat on economic prospects\\\\n\\\\nEconomists of foreign banks express optimism over Chinese economy [...] KEY INDICATORS\\\\n\\\\n   China\\'s GDP expands 5.2 pct in 2023, surpassing annual target\\\\n   China\\'s power use up 6.7 pct in 2023\\\\n   China\\'s express delivery sector sees double-digit growth in 2023\\\\n   China\\'s retail sales up 7.2 pct in 2023\\\\n\\\\nOPINIONS\\\\n\\\\nMultinationals upbeat on economic prospects\\\\n\\\\nEconomists of foreign banks express optimism over Chinese economy\\\\n\\\\n#### Desktop)\\\\n\\\\n### Copyright© www.gov.cn | Contact us\\\\n\\\\n### Website Identification Code bm01000001\\\\n\\\\n### Registration Number: 05070218 [...] ### Data highlights of China\\'s economy in 2023\\\\n\\\\n#### China has successfully achieved the major economic targets set for 2023 and recorded a rebound and improvements in the economy, despite external pressure and internal difficulties.\\\\n\\\\n   ### Chinese economy beats 2023 growth targets with GDP reaching new level\\\\n\\\\n   ### China\\'s foreign trade up 0.2 pct in 2023\\\\n\\\\nPRESS RELEASES\\\\n\\\\nImage 7\\\\n\\\\n#### National economy witnessed momentum of recovery with solid progress in high-quality development in 2023\", \"score\": 0.90633047, \"raw_content\": null}, {\"url\": \"https://tradingeconomics.com/china/full-year-gdp-growth\", \"title\": \"China Full Year GDP Growth - Trading Economics\", \"content\": \"Full Year GDP Growth in China decreased to 5 percent in 2024 from 5.40 percent in 2023. Full Year GDP Growth in China averaged 8.12 percent from 1953 until 2024, reaching an all time high of 21.30 percent in 1958 and a record low of -27.30 percent in 1961. This page includes a chart with historical data for China Full Year GDP Growth. China Full Year GDP Growth - data, historical chart, forecasts and calendar of releases - was last updated on October of 2025. [...] ### Full Year GDP Growth in China decreased to 5 percent in 2024 from 5.40 percent in 2023. Full Year GDP Growth in China is expected to reach 5.00 percent by the end of 2025, according to Trading Economics global macro models and analysts expectations. In the long-term, the China Full Year GDP Growth is projected to trend around 4.80 percent in 2026 and 4.60 percent in 2027, according to our econometric models.\\\\n\\\\n%\\\\n\\\\n5Y10Y25YMAX\\\\n\\\\n Export API\\\\n\\\\nOK\\\\n\\\\n   \\\\n\\\\n   \\\\n\\\\n   \\\\n\\\\n   \\\\n\\\\n   \\\\n\\\\n   \\\\n\\\\nLoading... [...] The Chinese economy grew by 5% in 2024, aligning with the government’s target of \\\\\"about 5%,\\\\\" but slightly down from the 5.4% growth recorded in 2023. This performance was driven by a series of stimulus measures introduced since September to support recovery and restore confidence. Additionally, companies accelerated exports in anticipation of higher US tariffs. Manufacturing expanded by 6.1%, led by equipment production (7.7%) and high-tech manufacturing (8.9%). The services sector grew by 5%,\", \"score\": 0.8952393, \"raw_content\": null}], \"response_time\": 1.76, \"request_id\": \"0072d080-2018-4aac-a8e4-791f25ffaae7\"}', name='tavily_search', tool_call_id='call_N1HYRJmPDa8sL27oXiiY6bCh'),\n",
              "  ToolMessage(content='{\"query\": \"Japan GDP 2023\", \"follow_up_questions\": null, \"answer\": null, \"images\": [], \"results\": [{\"url\": \"https://www.worldometers.info/gdp/japan-gdp/\", \"title\": \"Japan GDP - Worldometer\", \"content\": \"Nominal (current) Gross Domestic Product (GDP) of Japan is $4,204,490,000,000 (USD) as of 2023.\\\\n Real GDP (constant, inflation adjusted) of Japan reached $4,605,910,000,000 in 2023.\\\\n GDP Growth Rate in 2023 was 1.68%, representing a change of 76,060,000,000 US$ over 2022, when Real GDP was $4,529,850,000,000.\\\\n GDP per Capita in Japan (with a population of 124,370,947 people) was $37,034 in 2023, an increase of $794 from $36,240 in 2022; this represents a change of 2.2% in GDP per capita. [...] # Japan GDP\\\\n\\\\nGDP nominal (2023)\\\\n\\\\n$4,204,490,000,000\\\\n\\\\nGDP growth rate\\\\n\\\\n(2023)\\\\n\\\\n1.68%\\\\n\\\\n(Current US Dollars). Sources include: World Bank, United Nations. [...] | 2019 | -0.40% |\\\\n| 2020 | -4.15% |\\\\n| 2021 | 2.56% |\\\\n| 2022 | 0.95% |\\\\n| 2023 | 1.68% |\", \"score\": 0.96768326, \"raw_content\": null}, {\"url\": \"https://www.macrotrends.net/global-metrics/countries/jpn/japan/gdp-gross-domestic-product\", \"title\": \"Japan GDP | Historical Chart & Data - Macrotrends\", \"content\": \"## Japan GDP\\\\n\\\\nPopulation Economy Trade Health Education Development Labor Force Environment Crime Immigration Other\\\\n\\\\nGDP GDP Growth Rate GDP Per Capita Debt to GDP Inflation Rate Manufacturing GNI GNI Per Capita GNP\\\\n\\\\n##### Japan GDP for 2023 was 4.204 trillion US dollars, a 1.22% decline from 2022.\", \"score\": 0.9589434, \"raw_content\": null}, {\"url\": \"https://tradingeconomics.com/japan/gdp\", \"title\": \"Japan GDP - Trading Economics\", \"content\": \"| Components | Last | Previous | Unit | Reference |\\\\n ---  --- \\\\n| GDP from Agriculture | 5369.50 | 5312.10 | JPY Billion | Dec 2023 |\\\\n| GDP from Construction | 28722.30 | 28159.60 | JPY Billion | Dec 2023 |\\\\n| GDP from Manufacturing | 121800.40 | 120606.60 | JPY Billion | Dec 2023 |\\\\n| GDP from Mining | 277.70 | 295.90 | JPY Billion | Dec 2023 |\\\\n| GDP from Public Administration | 27058.30 | 27568.40 | JPY Billion | Dec 2023 |\\\\n| GDP from Services | 19914.40 | 19906.10 | JPY Billion | Dec 2023 | [...] | GDP from Transport | 25797.00 | 23680.70 | JPY Billion | Dec 2023 |\\\\n| GDP from Utilities | 17821.80 | 17069.70 | JPY Billion | Dec 2023 | [...] GDP in Japan averaged 2955.86 USD Billion from 1960 until 2024, reaching an all time high of 6272.36 USD Billion in 2012 and a record low of 47.42 USD Billion in 1960. This page provides - Japan GDP - actual values, historical data, forecast, chart, statistics, economic calendar and news. Japan GDP - values, historical data and charts - was last updated on October of 2025.\", \"score\": 0.9252368, \"raw_content\": null}, {\"url\": \"https://www.macrotrends.net/global-metrics/countries/jpn/japan/gdp-growth-rate\", \"title\": \"Japan GDP Growth Rate | Historical Chart & Data - Macrotrends\", \"content\": \"## Japan GDP Growth Rate\\\\n\\\\nPopulation Economy Trade Health Education Development Labor Force Environment Crime Immigration Other\\\\n\\\\nGDP GDP Growth Rate GDP Per Capita Debt to GDP Inflation Rate Manufacturing GNI GNI Per Capita GNP\\\\n\\\\n##### Japan gdp growth rate for 2023 was 1.68%, a 0.72% increase from 2022.\", \"score\": 0.9203972, \"raw_content\": null}], \"response_time\": 1.99, \"request_id\": \"a39f355c-3b52-453f-8278-0ee83087440f\"}', name='tavily_search', tool_call_id='call_pJAqnckGMUP6jozjIJxk0ffj'),\n",
              "  AIMessage(content='Here are the GDP figures for the top 3 countries in 2023:\\n\\n1. **United States**: $27.72 trillion\\n2. **China**: $17.795 trillion\\n3. **Japan**: $4.204 trillion\\n\\nNow, I will draw a bar chart using this data.', additional_kwargs={'tool_calls': [{'id': 'call_7fWvdASd1i3NsW7IgeikmtCF', 'function': {'arguments': '{\"query\": \"matplotlib bar chart example\", \"search_depth\": \"basic\"}', 'name': 'tavily_search'}, 'type': 'function'}, {'id': 'call_U2IlFZtY7IgjfPJGHAwZVNzd', 'function': {'arguments': '{\"query\": \"plotly bar chart example\", \"search_depth\": \"basic\"}', 'name': 'tavily_search'}, 'type': 'function'}], 'refusal': None}, response_metadata={'token_usage': {'completion_tokens': 132, 'prompt_tokens': 7282, 'total_tokens': 7414, 'completion_tokens_details': {'accepted_prediction_tokens': 0, 'audio_tokens': 0, 'reasoning_tokens': 0, 'rejected_prediction_tokens': 0}, 'prompt_tokens_details': {'audio_tokens': 0, 'cached_tokens': 3456}}, 'model_name': 'gpt-4o-2024-08-06', 'system_fingerprint': 'fp_cbf1785567', 'id': 'chatcmpl-COPHQwSgRarf3rKt1NJ0Tf7o9u1kl', 'service_tier': 'default', 'finish_reason': 'tool_calls', 'logprobs': None}, name='research_agent', id='run--88a318bb-e3b0-4cf2-8d18-cb31e11c5274-0', tool_calls=[{'name': 'tavily_search', 'args': {'query': 'matplotlib bar chart example', 'search_depth': 'basic'}, 'id': 'call_7fWvdASd1i3NsW7IgeikmtCF', 'type': 'tool_call'}, {'name': 'tavily_search', 'args': {'query': 'plotly bar chart example', 'search_depth': 'basic'}, 'id': 'call_U2IlFZtY7IgjfPJGHAwZVNzd', 'type': 'tool_call'}], usage_metadata={'input_tokens': 7282, 'output_tokens': 132, 'total_tokens': 7414, 'input_token_details': {'audio': 0, 'cache_read': 3456}, 'output_token_details': {'audio': 0, 'reasoning': 0}}),\n",
              "  ToolMessage(content='{\"query\": \"matplotlib bar chart example\", \"follow_up_questions\": null, \"answer\": null, \"images\": [], \"results\": [{\"url\": \"https://www.geeksforgeeks.org/pandas/bar-plot-in-matplotlib/\", \"title\": \"Bar Plot in Matplotlib\", \"content\": \"# Bar Plot in Matplotlib\\\\n\\\\nLast Updated : \\\\n12 Jul, 2025\\\\n\\\\nSuggest changes\\\\n\\\\n39 Likes\\\\n\\\\nA bar plot uses rectangular bars to represent data categories, with bar length or height proportional to their values. It compares discrete categories, with one axis for categories and the other for values.\\\\n\\\\nConsider a simple example where we visualize the sales of different fruits:\\\\n\\\\nPython\\\\n\\\\n````\\\\nimport matplotlib.pyplot as plt\\\\nimport numpy as np\", \"score\": 0.84707206, \"raw_content\": null}, {\"url\": \"https://matplotlib.org/stable/gallery/index.html\", \"title\": \"Examples — Matplotlib 3.10.6 documentation\", \"content\": \"For longer tutorials, see our tutorials page. You can also find external resources and a FAQ in our user guide.\\\\n\\\\nYou can also browse the example gallery by tags.\\\\n\\\\n## Lines, bars and markers#\\\\n\\\\nInfinite lines\\\\n\\\\nInfinite lines\\\\n\\\\nBar chart with individual bar colors\\\\n\\\\nBar chart with individual bar colors\\\\n\\\\nBar chart with labels\\\\n\\\\nBar chart with labels\\\\n\\\\nStacked bar chart\\\\n\\\\nStacked bar chart\\\\n\\\\nGrouped bar chart with labels\\\\n\\\\nGrouped bar chart with labels\\\\n\\\\nHorizontal bar chart\\\\n\\\\nHorizontal bar chart\", \"score\": 0.8335554, \"raw_content\": null}, {\"url\": \"https://pythonspot.com/matplotlib-bar-chart/index.html\", \"title\": \"Matplotlib Bar chart - Python Tutorials\", \"content\": \"Output:\\\\n\\\\n Python Bar Chart comparison\\\\n\\\\n## Stacked bar chart\\\\n\\\\nThe example below creates a stacked bar chart with Matplotlib. Stacked bar plots show diffrent groups together.\\\\n\\\\n|  | [...] | ``` # load matplotlib # load matplotlibimport matplotlib.pyplot as plt import as # data set # data setx = [\\'A\\', \\'B\\', \\'C\\', \\'D\\'] \\'A\\' \\'B\\' \\'C\\' \\'D\\'y1 = [100, 120, 110, 130] 100 120 110 130y2 = [120, 125, 115, 125] 120 125 115 125 # plot stacked bar chart  # plot stacked bar chart plt.bar(x, y1, color=\\'g\\') \\'g\\'plt.bar(x, y2, bottom=y1, color=\\'y\\') \\'y\\'plt.show() ``` |\\\\n\\\\nOutput:\\\\n\\\\nDownload All Matplotlib Examples\\\\n\\\\nBackNext\\\\n\\\\nPosted in plotting►tutorials\\\\n\\\\n  \\\\n\\\\n barchart\\\\n matplotlib\\\\n python [...] bar_width,alpha=opacity,color=\\'g\\', \\'g\\'label=\\'Guido\\') \\'Guido\\' plt.xlabel(\\'Person\\') \\'Person\\'plt.ylabel(\\'Scores\\') \\'Scores\\'plt.title(\\'Scores by person\\') \\'Scores by person\\'plt.xticks(index + bar_width, (\\'A\\', \\'B\\', \\'C\\', \\'D\\')) \\'A\\' \\'B\\' \\'C\\' \\'D\\'plt.legend() plt.tight_layout()plt.show() ``` |\", \"score\": 0.8194462, \"raw_content\": null}, {\"url\": \"https://pythonbasics.org/matplotlib-bar-chart/\", \"title\": \"Matplotlib Bar Chart - Python Tutorial\", \"content\": \"Related course: Matplotlib Examples and Video Course\\\\n\\\\nExample\\\\n\\\\n### Bar chart\\\\n\\\\nThe method bar() creates a bar chart. So how do you use it?  \\\\nThe program below creates a bar chart. We feed it the horizontal and vertical (data) data. [...] <span class=\\\\\"number\\\\\">43</span>, <span class=\\\\\"number\\\\\">52</span>]</span><br><span class=\\\\\"line\\\\\">data2 = [<span class=\\\\\"number\\\\\">42</span>, <span class=\\\\\"number\\\\\">35</span>, <span class=\\\\\"number\\\\\">21</span>, <span class=\\\\\"number\\\\\">16</span>, <span class=\\\\\"number\\\\\">9</span>]</span><br><span class=\\\\\"line\\\\\">plt.bar(range(len(data1)), data1)</span><br><span class=\\\\\"line\\\\\">plt.bar(range(len(data2)), data2, bottom=data1)</span><br><span class=\\\\\"line\\\\\">plt.show()</span><br></pre></td></tr></tbody></table> [...] class=\\\\\"number\\\\\">45</span>, <span class=\\\\\"number\\\\\">56</span>, <span class=\\\\\"number\\\\\">78</span>, <span class=\\\\\"number\\\\\">213</span>]</span><br><span class=\\\\\"line\\\\\">plt.bar([<span class=\\\\\"number\\\\\">1</span>,<span class=\\\\\"number\\\\\">2</span>,<span class=\\\\\"number\\\\\">3</span>,<span class=\\\\\"number\\\\\">4</span>,<span class=\\\\\"number\\\\\">5</span>], data)</span><br><span class=\\\\\"line\\\\\">plt.show()</span><br></pre></td></tr></tbody></table>\", \"score\": 0.8066246, \"raw_content\": null}], \"response_time\": 2.09, \"request_id\": \"fb584723-9079-4802-92f9-100926effb0b\"}', name='tavily_search', tool_call_id='call_7fWvdASd1i3NsW7IgeikmtCF'),\n",
              "  ToolMessage(content='{\"query\": \"plotly bar chart example\", \"follow_up_questions\": null, \"answer\": null, \"images\": [], \"results\": [{\"url\": \"https://www.geeksforgeeks.org/python/bar-chart-using-plotly-in-python/\", \"title\": \"Bar chart using Plotly in Python - GeeksforGeeks\", \"content\": \"### Bar chart with Plotly Express\\\\n\\\\nIn this example, we are going to use Plotly express to plot a bar chart.\\\\n\\\\nPython3\\\\n\\\\n````\\\\nimport plotly.express as px\\\\nimport numpy\\\\n\\\\n# creating random data through randomint \\\\n# function of numpy.random \\\\nnp.random.seed(42) \\\\n  \\\\nrandom_x= np.random.randint(1, 101, 100) \\\\nrandom_y= np.random.randint(1, 101, 100)\\\\n\\\\nfig = px.bar(random_x, y = random_y)\\\\nfig.show()\\\\n\\\\n````\\\\n\\\\nOutput:\\\\n\\\\n### Bar chart with Long and wide Format Data [...] Example 1: In this example, we will use the iris data set and convert it into the dataframe to plot bar chart.\\\\n\\\\nPython3\\\\n\\\\n````\\\\nimport plotly.express as px\\\\n\\\\ndf = px.data.iris()\\\\n\\\\nfig = px.bar(df, x = \\\\\"sepal_width\\\\\", y = \\\\\"sepal_length\\\\\")\\\\nfig.show()\\\\n\\\\n````\\\\n\\\\nOutput: [...] By using keyword arguments the bar mode can be customized. Let\\'s see the examples given below:\\\\n\\\\nExample 1: In this example, the bar is customizing according to the color attributes.\\\\n\\\\nPython3\\\\n\\\\n````\\\\nimport plotly.express as px\\\\n\\\\ndf = px.data.iris()\\\\n\\\\nfig = px.bar(df, x=\\\\\"sepal_width\\\\\", y=\\\\\"sepal_length\\\\\", color=\\\\\"species\\\\\")\\\\nfig.show()\\\\n\\\\n````\\\\n\\\\nOutput:\\\\n\\\\nExample 2: In this example, we will use barmode = \\\\\"group\\\\\". With \\\\\"group\\\\\", the bars are grouped with one another\\\\n\\\\nPython3\\\\n\\\\n````\\\\nimport plotly.express as px\", \"score\": 0.8755427, \"raw_content\": null}, {\"url\": \"https://programminghistorian.org/en/lessons/interactive-visualization-with-plotly\", \"title\": \"Creating Interactive Visualizations with Plotly - Programming Historian\", \"content\": \"Since the code is particularly lengthy for creating subplots, this example will be provided on a step-by-step basis. We will create a 3x1 grid containing three different charts: the first will be a standard bar chart to quantify prosecution counts for male vs. female suspects; the second will be a line graph showing changes in male vs. female prosecutions over time; and the third will be a boxplot showing the minimum, inter-quartile range and maximum ages of male vs. female suspects. [...] ### Using Plotly Graph Objects vs. Plotly Express\\\\n\\\\nAnother key point to be aware of is that creating graphs with `plotly.go` typically requires much more code than making the same graph with `plotly.px`.\\\\n\\\\nConsider the following example: building a simple horizontal bar chart to show male vs. female homicide prosecutions. First, let’s create a `DataFrame` which tallies prosecution counts by gender:\\\\n\\\\n```\\\\nphl_by_gender = phl_crime. groupby([\\\\\"Gender of accused\\\\\"], as_index = False). size()\\\\n``` [...] To create a figure with an animation frame, start by using the usual method outlined in the above examples to specify which type of graph is desired. Then, within that method, use the `animation_frame` parameter to specify which variable should be used for visualizing change. The example below builds a bar chart depicting changes in male and female homicide prosecutions over the sample period:\", \"score\": 0.8409005, \"raw_content\": null}, {\"url\": \"https://www.tutorialspoint.com/plotly/plotly_bar_and_pie_chart.htm\", \"title\": \"Plotly - Bar Chart and Pie Chart - Tutorials Point\", \"content\": \"Following example plots a simple bar chart about number of students enrolled for different courses. The go.Bar() function returns a bar trace with x coordinate set as list of subjects and y coordinate as number of students.\\\\n\\\\n```\\\\nimport plotly.graph_objs as go langs = [\\'C\\', \\'C++\\', \\'Java\\', \\'Python\\', \\'PHP\\'] students = [23,17,35,29,12] data = [go.Bar( x = langs, y = students )] fig = go.Figure(data=data) iplot(fig) \\\\n```\\\\n\\\\nThe output will be as shown below −\", \"score\": 0.8399576, \"raw_content\": null}, {\"url\": \"https://plotly.com/javascript/bar-charts/\", \"title\": \"Bar charts in JavaScript\", \"content\": \"# Bar Charts in JavaScript\\\\n\\\\nHow to make a D3.js-based bar chart in javascript. Seven examples of grouped, stacked, overlaid, and colored bar charts.\\\\n\\\\n  \\\\n\\\\nPlotly Studio: Transform any dataset into an interactive data application in minutes with AI. Try Plotly Studio now.\\\\n\\\\n### Basic Bar Chart\\\\n\\\\n```\\\\nvar data = [\\\\n  {\\\\n    x: [\\'giraffes\\', \\'orangutans\\', \\'monkeys\\'],\\\\n    y: [20, 14, 23],\\\\n    type: \\'bar\\'\\\\n  }\\\\n];\\\\n\\\\nPlotly.newPlot(\\'myDiv\\', data);\\\\n\\\\nClick to copy\\\\n\\\\n```\\\\n\\\\n### Grouped Bar Chart\", \"score\": 0.8380581, \"raw_content\": null}], \"response_time\": 2.71, \"request_id\": \"b0e4b887-0bd4-4fbd-992f-2cbcbd442da4\"}', name='tavily_search', tool_call_id='call_U2IlFZtY7IgjfPJGHAwZVNzd'),\n",
              "  AIMessage(content=\"I have gathered examples for creating bar charts using both Matplotlib and Plotly. Here's how you can create a bar chart using each library:\\n\\n### Using Matplotlib\\n\\n```python\\nimport matplotlib.pyplot as plt\\n\\n# Data\\ncountries = ['United States', 'China', 'Japan']\\ngdp_values = [27.72, 17.795, 4.204]  # in trillions\\n\\n# Create bar chart\\nplt.figure(figsize=(10, 6))\\nplt.bar(countries, gdp_values, color=['blue', 'red', 'green'])\\nplt.title('Top 3 Countries by GDP in 2023')\\nplt.xlabel('Country')\\nplt.ylabel('GDP in Trillions USD')\\nplt.show()\\n```\\n\\n### Using Plotly\\n\\n```python\\nimport plotly.express as px\\n\\n# Data\\ncountries = ['United States', 'China', 'Japan']\\ngdp_values = [27.72, 17.795, 4.204]  # in trillions\\n\\n# Create bar chart\\nfig = px.bar(x=countries, y=gdp_values, labels={'x': 'Country', 'y': 'GDP in Trillions USD'}, title='Top 3 Countries by GDP in 2023')\\nfig.show()\\n```\\n\\nYou can choose either Matplotlib or Plotly based on your preference for static or interactive visualizations. Both will effectively display the GDP data for the top 3 countries.\", additional_kwargs={'refusal': None}, response_metadata={'token_usage': {'completion_tokens': 294, 'prompt_tokens': 9859, 'total_tokens': 10153, 'completion_tokens_details': {'accepted_prediction_tokens': 0, 'audio_tokens': 0, 'reasoning_tokens': 0, 'rejected_prediction_tokens': 0}, 'prompt_tokens_details': {'audio_tokens': 0, 'cached_tokens': 7168}}, 'model_name': 'gpt-4o-2024-08-06', 'system_fingerprint': 'fp_cbf1785567', 'id': 'chatcmpl-COPHYgLUYacamTvsVZrnR5tsjltu5', 'service_tier': 'default', 'finish_reason': 'stop', 'logprobs': None}, name='research_agent', id='run--907fd969-d625-4b7e-bbc4-aa6792607e6b-0', usage_metadata={'input_tokens': 9859, 'output_tokens': 294, 'total_tokens': 10153, 'input_token_details': {'audio': 0, 'cache_read': 7168}, 'output_token_details': {'audio': 0, 'reasoning': 0}}),\n",
              "  AIMessage(content='', additional_kwargs={'tool_calls': [{'id': 'call_Y3vXKWictwZuuheC9dG5A7Si', 'function': {'arguments': '{\"code\":\"import matplotlib.pyplot as plt\\\\n\\\\n# Data\\\\ncountries = [\\'United States\\', \\'China\\', \\'Japan\\']\\\\ngdp_values = [27.72, 17.795, 4.204]  # in trillions\\\\n\\\\n# Create bar chart\\\\nplt.figure(figsize=(10, 6))\\\\nplt.bar(countries, gdp_values, color=[\\'blue\\', \\'red\\', \\'green\\'])\\\\nplt.title(\\'Top 3 Countries by GDP in 2023\\')\\\\nplt.xlabel(\\'Country\\')\\\\nplt.ylabel(\\'GDP in Trillions USD\\')\\\\nplt.show()\"}', 'name': 'python_code_execution'}, 'type': 'function'}], 'refusal': None}, response_metadata={'token_usage': {'completion_tokens': 138, 'prompt_tokens': 8950, 'total_tokens': 9088, 'completion_tokens_details': {'accepted_prediction_tokens': 0, 'audio_tokens': 0, 'reasoning_tokens': 0, 'rejected_prediction_tokens': 0}, 'prompt_tokens_details': {'audio_tokens': 0, 'cached_tokens': 0}}, 'model_name': 'gpt-4o-2024-08-06', 'system_fingerprint': 'fp_cbf1785567', 'id': 'chatcmpl-COPHl85xH9sfb0YqSgXGpswrHp7G3', 'service_tier': 'default', 'finish_reason': 'tool_calls', 'logprobs': None}, name='code_execution_agent', id='run--565af350-02fa-4a9e-80fb-7e24b3b8d985-0', tool_calls=[{'name': 'python_code_execution', 'args': {'code': \"import matplotlib.pyplot as plt\\n\\n# Data\\ncountries = ['United States', 'China', 'Japan']\\ngdp_values = [27.72, 17.795, 4.204]  # in trillions\\n\\n# Create bar chart\\nplt.figure(figsize=(10, 6))\\nplt.bar(countries, gdp_values, color=['blue', 'red', 'green'])\\nplt.title('Top 3 Countries by GDP in 2023')\\nplt.xlabel('Country')\\nplt.ylabel('GDP in Trillions USD')\\nplt.show()\"}, 'id': 'call_Y3vXKWictwZuuheC9dG5A7Si', 'type': 'tool_call'}], usage_metadata={'input_tokens': 8950, 'output_tokens': 138, 'total_tokens': 9088, 'input_token_details': {'audio': 0, 'cache_read': 0}, 'output_token_details': {'audio': 0, 'reasoning': 0}}),\n",
              "  ToolMessage(content='output of the code :- , if you completed all task then responed with Final Answer.', name='python_code_execution', tool_call_id='call_Y3vXKWictwZuuheC9dG5A7Si'),\n",
              "  AIMessage(content='FINAL ANSWER: The bar chart displaying the GDP of the top 3 countries in 2023 has been successfully created using Matplotlib. The chart shows the United States, China, and Japan with GDP values of $27.72 trillion, $17.795 trillion, and $4.204 trillion, respectively.', additional_kwargs={'refusal': None}, response_metadata={'token_usage': {'completion_tokens': 65, 'prompt_tokens': 9119, 'total_tokens': 9184, 'completion_tokens_details': {'accepted_prediction_tokens': 0, 'audio_tokens': 0, 'reasoning_tokens': 0, 'rejected_prediction_tokens': 0}, 'prompt_tokens_details': {'audio_tokens': 0, 'cached_tokens': 8832}}, 'model_name': 'gpt-4o-2024-08-06', 'system_fingerprint': 'fp_cbf1785567', 'id': 'chatcmpl-COPHrErJn4Vat3I83Df3h9V7tIxPB', 'service_tier': 'default', 'finish_reason': 'stop', 'logprobs': None}, name='code_execution_agent', id='run--9b9a8363-3bc4-450d-b273-7693b5dc2e06-0', usage_metadata={'input_tokens': 9119, 'output_tokens': 65, 'total_tokens': 9184, 'input_token_details': {'audio': 0, 'cache_read': 8832}, 'output_token_details': {'audio': 0, 'reasoning': 0}})],\n",
              " 'sender': 'code_execution_agent'}"
            ]
          },
          "metadata": {},
          "execution_count": 38
        }
      ]
    },
    {
      "cell_type": "code",
      "source": [
        "type(response)"
      ],
      "metadata": {
        "colab": {
          "base_uri": "https://localhost:8080/"
        },
        "id": "_Y0A1dX0MGWP",
        "outputId": "20b776ff-609e-40f4-a691-bb456dad0d8b"
      },
      "execution_count": 39,
      "outputs": [
        {
          "output_type": "execute_result",
          "data": {
            "text/plain": [
              "dict"
            ]
          },
          "metadata": {},
          "execution_count": 39
        }
      ]
    },
    {
      "cell_type": "code",
      "source": [
        "response['messages'][-1].content"
      ],
      "metadata": {
        "colab": {
          "base_uri": "https://localhost:8080/",
          "height": 53
        },
        "id": "5eUwZkUCNX3w",
        "outputId": "5c97412a-88e3-4af1-c0e1-48e5ca710650"
      },
      "execution_count": 40,
      "outputs": [
        {
          "output_type": "execute_result",
          "data": {
            "text/plain": [
              "'FINAL ANSWER: The bar chart displaying the GDP of the top 3 countries in 2023 has been successfully created using Matplotlib. The chart shows the United States, China, and Japan with GDP values of $27.72 trillion, $17.795 trillion, and $4.204 trillion, respectively.'"
            ],
            "application/vnd.google.colaboratory.intrinsic+json": {
              "type": "string"
            }
          },
          "metadata": {},
          "execution_count": 40
        }
      ]
    },
    {
      "cell_type": "code",
      "source": [
        "response['sender']"
      ],
      "metadata": {
        "colab": {
          "base_uri": "https://localhost:8080/",
          "height": 35
        },
        "id": "XyqxwYeHNlHI",
        "outputId": "a7b34804-49f0-4609-9862-d4acf17175a5"
      },
      "execution_count": 41,
      "outputs": [
        {
          "output_type": "execute_result",
          "data": {
            "text/plain": [
              "'code_execution_agent'"
            ],
            "application/vnd.google.colaboratory.intrinsic+json": {
              "type": "string"
            }
          },
          "metadata": {},
          "execution_count": 41
        }
      ]
    },
    {
      "cell_type": "markdown",
      "source": [
        "__WE can see the final answer generated by Code Executor agent.__"
      ],
      "metadata": {
        "id": "WErmlOG_Nq_v"
      }
    },
    {
      "cell_type": "code",
      "source": [],
      "metadata": {
        "id": "Bo-2rzvGNp-N"
      },
      "execution_count": null,
      "outputs": []
    }
  ]
}